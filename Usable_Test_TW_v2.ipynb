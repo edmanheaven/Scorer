{
 "cells": [
  {
   "cell_type": "markdown",
   "id": "cc8d1b7e-c909-4e89-b82a-0bb066908e5c",
   "metadata": {},
   "source": [
    "# used to score test data\n",
    "contains threshold #1 (different from T1, which was based on older models that included used two wheeler)\n",
    "\n",
    "#needs adjustment re: imputation of missing values."
   ]
  },
  {
   "cell_type": "markdown",
   "id": "3b71a95f-3976-4eda-a26c-fb94f39185cc",
   "metadata": {},
   "source": [
    "# Usable notebook\n",
    "- Data must adhere to the required format;"
   ]
  },
  {
   "cell_type": "markdown",
   "id": "6f1c3b09-64aa-4f30-b170-519ce8906cdd",
   "metadata": {},
   "source": [
    "### Change the datafile_name\n",
    "e.g. \"my_file.csv\" ;<br>the .csv should be included in the name "
   ]
  },
  {
   "cell_type": "code",
   "execution_count": 1,
   "id": "6e524f37-6d36-4d2c-a811-0df97bf3c01a",
   "metadata": {},
   "outputs": [],
   "source": [
    "datafile_name = \"SCM_Data_21-02-25_Rev_1.28_input.csv\""
   ]
  },
  {
   "cell_type": "markdown",
   "id": "495b089c-5802-4581-ae2f-7268b0a25ecc",
   "metadata": {},
   "source": [
    "### RUN ALL CELLS"
   ]
  },
  {
   "cell_type": "code",
   "execution_count": 2,
   "id": "308e8dc8-06b4-480e-b41a-87daf8bd37ef",
   "metadata": {},
   "outputs": [],
   "source": [
    "import pandas as pd\n",
    "import numpy as np\n",
    "import pickle\n",
    "from sklearn.preprocessing import OneHotEncoder"
   ]
  },
  {
   "cell_type": "code",
   "execution_count": 3,
   "id": "9869abc3-15a9-458b-aae1-c47d2e1e2e6f",
   "metadata": {},
   "outputs": [],
   "source": [
    "def standard_format_data(raw_datafilename):\n",
    "    #load necessary libraries\n",
    "    import pandas as pd\n",
    "    import numpy as np\n",
    "    \n",
    "    #load data\n",
    "    datafile_name = raw_datafilename\n",
    "    data_filepath = f'./Raw_Data/{datafile_name}'\n",
    "    basis_df = pd.read_csv(data_filepath)\n",
    "\n",
    "    #lower case all column names\n",
    "    basis_df.columns = basis_df.columns.str.lower()\n",
    "\n",
    "    #choose necessary model variables\n",
    "    variables = ['bureau_score', 'product_description','loan_account_no',\n",
    "             'res_years_at_current_city','res_resident_status',\n",
    "             'res_city','res_state','age',\n",
    "             'manufacturer','down_payment_amount','total_income',\n",
    "             'branch_name','occupation_type', 'industry',\n",
    "             'interest_rate','number_of_installments','loan_asset_cost',\n",
    "             'asset_model','channel','res_years_at_current_address',\n",
    "             'gender', 'marital_status', 'nature_of_business',\n",
    "             'years_in_occupation']\n",
    "    #note: no requested_loam_amount (to be confirmed)\n",
    "    df = basis_df[variables].copy()\n",
    "\n",
    "    #fill missing values; imputation using median/mode values of training data\n",
    "    #cols cannot have missing values: loan_account_no\n",
    "    df['bureau_score'] = df['bureau_score'].fillna(-1)\n",
    "    df['product_description'] = df['product_description'].fillna('Two-wheeler')\n",
    "    df['res_years_at_current_city'] = df['res_years_at_current_city'].fillna(15.0)\n",
    "    df['res_resident_status'] = df.res_resident_status.fillna('OWNED_BY_PARENT_/SIBLING')\n",
    "    df['res_city'] = df['res_city'].fillna('MUMBAI')\n",
    "    df['res_state'] = df['res_state'].fillna('MAHARASHTRA')\n",
    "    df['age'] = df['age'].fillna(31.73351648)\n",
    "    df['manufacturer'] = df['manufacturer'].fillna('HONDA')\n",
    "    df['down_payment_amount'] = df['down_payment_amount'].fillna(12867.0)\n",
    "    df['total_income'] = df['total_income'].fillna(420000.0)\n",
    "    df['branch_name'] = df['branch_name'].fillna('SOUTH_BANGALORE')\n",
    "    df['occupation_type'] = df['occupation_type'].fillna('SALARIED')\n",
    "    df['industry'] = df['industry'].fillna('OTHERS')\n",
    "    df['interest_rate'] = df['interest_rate'].fillna(11.75)\n",
    "    df['number_of_installments'] = df['number_of_installments'].fillna(30.0)\n",
    "    df['loan_asset_cost'] = df['loan_asset_cost'].fillna(102810.0)\n",
    "    df['asset_model'] = df['asset_model'].fillna('SPLENDOR')\n",
    "    df['channel'] = df['channel'].fillna('DEALER')\n",
    "    df['res_years_at_current_address'] = df['res_years_at_current_address'].fillna(10.0)\n",
    "    df['gender'] = df['gender'].fillna('MALE')\n",
    "    df['marital_status'] = df['marital_status'].fillna('MARRIED')\n",
    "    df['nature_of_business'] = df['nature_of_business'].fillna('SERVICES')\n",
    "    df['years_in_occupation'] = df['years_in_occupation'].fillna(3.0)\n",
    "    df['monthly_income'] = df['total_income'] / 12 #derived\n",
    "    df['dp_ratio'] = df.down_payment_amount/ df.loan_asset_cost #derived\n",
    "    \n",
    "    #standardize values capitalization\n",
    "    df = df.map(lambda x: x.upper() if isinstance(x, str) else x)\n",
    "    \n",
    "    #remove trailing and leading spaces\n",
    "    obj_cols = list(df.select_dtypes('object'))\n",
    "    df[obj_cols] = df[obj_cols].apply(lambda category: category.str.strip()) \n",
    "    \n",
    "    #remove spaces in between values, replace with underscore\n",
    "    df = df.map(lambda x: '_'.join(x.split()) if isinstance(x, str) else x)\n",
    "    \n",
    "    #convert to expected numerical datatypes\n",
    "    float_cols = ['age','dp_ratio', 'down_payment_amount', \n",
    "                  'total_income','interest_rate','monthly_income']\n",
    "    int_cols = ['bureau_score','res_years_at_current_city', 'loan_asset_cost','number_of_installments',\n",
    "               'res_years_at_current_address','years_in_occupation']\n",
    "    \n",
    "    df[int_cols] = df[int_cols].astype(int)\n",
    "    df[float_cols] = df[float_cols].astype(float)\n",
    "    standard_df = df.copy()\n",
    "\n",
    "    return standard_df"
   ]
  },
  {
   "cell_type": "code",
   "execution_count": 4,
   "id": "9ffb91da-69ee-4bf9-b760-0a1ce8783ea5",
   "metadata": {},
   "outputs": [],
   "source": [
    "#clean column name of loan_account_no and standardize capitalization\n",
    "def standard_format_raw(raw_datafilename):\n",
    "    \n",
    "    #load data\n",
    "    datafile_name = raw_datafilename\n",
    "    data_filepath = f'./Raw_Data/{datafile_name}'\n",
    "    basis_df = pd.read_csv(data_filepath)\n",
    "\n",
    "    #lower case all column names\n",
    "    basis_df.columns = basis_df.columns.str.lower()\n",
    "    \n",
    "    df = basis_df.copy()\n",
    "\n",
    "    #standardize values capitalization\n",
    "    df['loan_account_no'] = df['loan_account_no'].map(lambda x: x.upper() if isinstance(x, str) else x)\n",
    "    \n",
    "    #remove trailing and leading spaces\n",
    "    obj_cols = list(df.select_dtypes('object'))\n",
    "    \n",
    "    standard_raw_df = df.copy()\n",
    "\n",
    "    return standard_raw_df"
   ]
  },
  {
   "cell_type": "code",
   "execution_count": 5,
   "id": "0690c710-623a-4e1d-8c99-832d63f89005",
   "metadata": {},
   "outputs": [],
   "source": [
    "standard_data = standard_format_data(datafile_name)\n",
    "#standard_data.to_csv(f'./Input_data/01 Cleaned_Data/cleaned_{datafile_name}')"
   ]
  },
  {
   "cell_type": "code",
   "execution_count": 6,
   "id": "833dec74-9e26-4e4b-bdcb-e14169e350a3",
   "metadata": {},
   "outputs": [
    {
     "data": {
      "text/plain": [
       "(18623, 26)"
      ]
     },
     "execution_count": 6,
     "metadata": {},
     "output_type": "execute_result"
    }
   ],
   "source": [
    "standard_data.shape"
   ]
  },
  {
   "cell_type": "code",
   "execution_count": 7,
   "id": "e04d55a0-f615-45ff-9c50-2ab146d0370f",
   "metadata": {},
   "outputs": [
    {
     "data": {
      "text/plain": [
       "Index(['bureau_score', 'product_description', 'loan_account_no',\n",
       "       'res_years_at_current_city', 'res_resident_status', 'res_city',\n",
       "       'res_state', 'age', 'manufacturer', 'down_payment_amount',\n",
       "       'total_income', 'branch_name', 'occupation_type', 'industry',\n",
       "       'interest_rate', 'number_of_installments', 'loan_asset_cost',\n",
       "       'asset_model', 'channel', 'res_years_at_current_address', 'gender',\n",
       "       'marital_status', 'nature_of_business', 'years_in_occupation',\n",
       "       'monthly_income', 'dp_ratio'],\n",
       "      dtype='object')"
      ]
     },
     "execution_count": 7,
     "metadata": {},
     "output_type": "execute_result"
    }
   ],
   "source": [
    "standard_data.columns"
   ]
  },
  {
   "cell_type": "code",
   "execution_count": 8,
   "id": "5b5ebf8d-0351-402e-93e8-4c061a2c0de7",
   "metadata": {},
   "outputs": [],
   "source": [
    "raw_standard = standard_format_raw(datafile_name)\n",
    "raw_all_cols = raw_standard.columns.tolist()\n",
    "raw_all_cols.remove('loan_account_no')"
   ]
  },
  {
   "cell_type": "code",
   "execution_count": 9,
   "id": "7cf1ff50-b602-4f35-9928-2d34796a48e2",
   "metadata": {},
   "outputs": [
    {
     "data": {
      "text/html": [
       "<div>\n",
       "<style scoped>\n",
       "    .dataframe tbody tr th:only-of-type {\n",
       "        vertical-align: middle;\n",
       "    }\n",
       "\n",
       "    .dataframe tbody tr th {\n",
       "        vertical-align: top;\n",
       "    }\n",
       "\n",
       "    .dataframe thead th {\n",
       "        text-align: right;\n",
       "    }\n",
       "</style>\n",
       "<table border=\"1\" class=\"dataframe\">\n",
       "  <thead>\n",
       "    <tr style=\"text-align: right;\">\n",
       "      <th></th>\n",
       "      <th>loan_account_no</th>\n",
       "      <th>application_number</th>\n",
       "      <th>cifnumber</th>\n",
       "      <th>customer_number</th>\n",
       "      <th>application received date</th>\n",
       "      <th>product_description</th>\n",
       "      <th>judgement date</th>\n",
       "      <th>decision</th>\n",
       "      <th>user_comment</th>\n",
       "      <th>loan_account_no_og</th>\n",
       "      <th>...</th>\n",
       "      <th>dealer</th>\n",
       "      <th>total_income</th>\n",
       "      <th>branch_name</th>\n",
       "      <th>occupation_type</th>\n",
       "      <th>industry</th>\n",
       "      <th>marital_status</th>\n",
       "      <th>nature_of_business</th>\n",
       "      <th>loan amount requested</th>\n",
       "      <th>bureau_score</th>\n",
       "      <th>d3_within12months</th>\n",
       "    </tr>\n",
       "  </thead>\n",
       "  <tbody>\n",
       "    <tr>\n",
       "      <th>1437</th>\n",
       "      <td>TEST1438</td>\n",
       "      <td>APPL00276099</td>\n",
       "      <td>GLBCUST00000239081</td>\n",
       "      <td>CUST00246834</td>\n",
       "      <td>1/23/2024</td>\n",
       "      <td>2 Wheeler Loan</td>\n",
       "      <td>1/23/2024</td>\n",
       "      <td>Reject</td>\n",
       "      <td>Negative CIBIL</td>\n",
       "      <td>NaN</td>\n",
       "      <td>...</td>\n",
       "      <td>MANSI MOTORS - BANDRA (EAST)</td>\n",
       "      <td>432000</td>\n",
       "      <td>Western Mumbai</td>\n",
       "      <td>Salaried</td>\n",
       "      <td>Others</td>\n",
       "      <td>Married</td>\n",
       "      <td>Services</td>\n",
       "      <td>102000</td>\n",
       "      <td>546</td>\n",
       "      <td>0</td>\n",
       "    </tr>\n",
       "  </tbody>\n",
       "</table>\n",
       "<p>1 rows × 40 columns</p>\n",
       "</div>"
      ],
      "text/plain": [
       "     loan_account_no application_number           cifnumber customer_number  \\\n",
       "1437        TEST1438       APPL00276099  GLBCUST00000239081    CUST00246834   \n",
       "\n",
       "     application received date product_description judgement date decision  \\\n",
       "1437                 1/23/2024      2 Wheeler Loan      1/23/2024   Reject   \n",
       "\n",
       "        user_comment loan_account_no_og  ...                        dealer  \\\n",
       "1437  Negative CIBIL                NaN  ...  MANSI MOTORS - BANDRA (EAST)   \n",
       "\n",
       "      total_income     branch_name  occupation_type  industry marital_status  \\\n",
       "1437        432000  Western Mumbai         Salaried    Others        Married   \n",
       "\n",
       "      nature_of_business  loan amount requested  bureau_score  \\\n",
       "1437            Services                 102000           546   \n",
       "\n",
       "      d3_within12months  \n",
       "1437                  0  \n",
       "\n",
       "[1 rows x 40 columns]"
      ]
     },
     "execution_count": 9,
     "metadata": {},
     "output_type": "execute_result"
    }
   ],
   "source": [
    "raw_standard[raw_standard.loan_asset_cost == 0]"
   ]
  },
  {
   "cell_type": "code",
   "execution_count": 10,
   "id": "f40ef8e4-99d5-4fed-a168-3a1467990262",
   "metadata": {},
   "outputs": [],
   "source": [
    "#define a function that wrangles the base standard data\n",
    "#i.e. grouping categories (crude feature engineering based on IV analysis)\n",
    "\n",
    "def load_clean_data2(standard_df, segment):\n",
    "    #load data\n",
    "    df = standard_df\n",
    "\n",
    "    #manufacturer - Jan ok\n",
    "    df['manufacturer_grp'] = np.where(\n",
    "        (df['manufacturer'] == 'BAJAJ_AUTO') | (df['manufacturer'] == 'YAMAHA')\n",
    "        | (df['manufacturer'] == 'APRILIA') | (df['manufacturer'] == 'ROYAL_ENFIELD')\n",
    "        | (df['manufacturer'] == 'PIAGGIO') | (df['manufacturer'] == 'KTM')\n",
    "        | (df['manufacturer'] == 'JAWA'),\n",
    "        'OTHERS', df['manufacturer'])\n",
    "    \n",
    "    #channel - Jan ok\n",
    "    df['channel_grp'] = np.where(\n",
    "        (df['channel'] == 'ALTERNATE_CHANNEL') | (df['channel'] == 'BRANCH')\n",
    "        | (df['channel'] == 'DIRECT')| (df['channel'] == 'REFERRAL'),\n",
    "        'NON_DEALER', df['channel'])\n",
    "\n",
    "    #industry - Jan ok\n",
    "    df['industry_grp'] = np.where(\n",
    "        (df['industry'] != 'APPARELS') & (df['industry'] != 'AGRICULTURE'),\n",
    "        'OTHERS',df['industry'])\n",
    "\n",
    "    #branch_name - Jan ok\n",
    "    df['branch_grp'] = np.where(\n",
    "        (df['branch_name'] == 'EAST_BANGALORE') | (df['branch_name'] == 'SOUTH_DELHI') |\n",
    "        (df['branch_name'] == 'NORTH_BANGALORE') | (df['branch_name'] == 'EAST_DELHI') |\n",
    "        (df['branch_name'] == 'NOIDA')| (df['branch_name'] == 'GURGAON')|\n",
    "        (df['branch_name'] == 'WEST_BANGALORE')| (df['branch_name'] == 'NORTH_DELHI')\n",
    "        | (df['branch_name'] == 'FARIDABAD'),\n",
    "            'OTHERS',df['branch_name'])\n",
    "\n",
    "    #grouping asset_model - Jan ok\n",
    "    text_list = ['SPLENDOR', 'ACCESS', 'BURGMAN', 'ACTIVA', 'NTORQ', 'JUPITER', 'HF', 'AVENIS']\n",
    "    # Function to check and assign text or 'Others'\n",
    "    def check_text(value):\n",
    "        value = value.replace('_', ' ')  # Replace underscores with spaces\n",
    "        for text in text_list:\n",
    "            if text in value:\n",
    "                return text\n",
    "        return 'OTHERS'\n",
    "\n",
    "    # Create new column based on the function\n",
    "    df['asset_model_grp'] = df['asset_model'].apply(check_text)\n",
    "\n",
    "    #res_city - Jan oK\n",
    "    df['res_city_grp'] = np.where(\n",
    "        (df['res_city'] != 'MUMBAI') & (df['res_city'] != 'THANE')\n",
    "        & (df['res_city'] != 'BANGALORE')& (df['res_city'] != 'DELHI')\n",
    "        & (df['res_city'] != 'GHAZIABAD'),\n",
    "        'OTHERS',df['res_city'])\n",
    "\n",
    "    #res_state - Jan ok\n",
    "    df['res_state_grp'] = np.where(\n",
    "        (df['res_state'] == 'HARYANA') | (df['res_state'] == 'LAKSHADWEEP'),\n",
    "        'OTHERS',df['res_state'])\n",
    "\n",
    "    #res_resident_status - Jan ok\n",
    "    df['res_resident_status_grp'] = np.where(\n",
    "        (df['res_resident_status'] == 'OWNED_BY_PARENT_/SIBLING') | (df['res_resident_status'] == 'OWNED_BY_SELF/SPOUSE')\n",
    "        , 'OWNED', df['res_resident_status'])\n",
    "\n",
    "    df['res_resident_status_grp'] = np.where(\n",
    "        (df['res_resident_status'] == 'COMPANY_PROVIDED') | (df['res_resident_status'] == 'RENTED')\n",
    "        | (df['res_resident_status'] == 'HOSTEL')| (df['res_resident_status'] == 'PAYING_GUEST')\n",
    "        , 'RENTED', df['res_resident_status_grp'])\n",
    "\n",
    "    #branch_name\n",
    "    df['nature_of_business'] = np.where(\n",
    "        (df['nature_of_business'] != 'SERVICES') & (df['nature_of_business'] != 'AGRICULTURE'),\n",
    "            'OTHERS',df['nature_of_business'])\n",
    "\n",
    "    working_df = df.copy()\n",
    "    working_df = working_df.drop(columns = ['manufacturer', 'channel','industry',\n",
    "                                            'branch_name', 'asset_model','res_city',\n",
    "                                            'res_state','res_resident_status'])\n",
    "\n",
    "    #dfs\n",
    "    if segment == 'NTC':\n",
    "        df_NTC = working_df[working_df['bureau_score'] < 300]\n",
    "        df_NTC = df_NTC.drop(columns = ['bureau_score'])\n",
    "        return df_NTC\n",
    "    \n",
    "    elif segment == 'low_CIBIL':\n",
    "        df_low_CIBIL = working_df[(working_df['bureau_score'] >= 300) & (working_df['bureau_score'] <= 730)]\n",
    "        df_low_CIBIL = df_low_CIBIL.drop(columns = ['bureau_score'])\n",
    "        return df_low_CIBIL\n",
    "    \n",
    "    elif segment == 'mid_CIBIL':\n",
    "        df_mid_CIBIL = working_df[(working_df['bureau_score'] >= 731) & (working_df['bureau_score'] <= 749)]\n",
    "        df_mid_CIBIL = df_mid_CIBIL.drop(columns = ['bureau_score'])\n",
    "        return df_mid_CIBIL\n",
    "    \n",
    "    elif segment == 'high_CIBIL':\n",
    "        df_high_CIBIL = working_df[working_df['bureau_score'] >= 750]\n",
    "        df_high_CIBIL = df_high_CIBIL.drop(columns = ['bureau_score'])\n",
    "        return df_high_CIBIL\n",
    "        \n",
    "    else:\n",
    "        return ('Choose among NTC, low_CIBIL, mid_CIBIL, high_CIBIL')"
   ]
  },
  {
   "cell_type": "code",
   "execution_count": 11,
   "id": "7e3b77f8-844b-4e3e-96c5-8ef58319b2b0",
   "metadata": {},
   "outputs": [],
   "source": [
    "wrangled_df_NTC = load_clean_data2(standard_data, 'NTC')\n",
    "wrangled_df_low_CIBIL = load_clean_data2(standard_data, 'low_CIBIL')\n",
    "wrangled_df_mid_CIBIL = load_clean_data2(standard_data, 'mid_CIBIL')\n",
    "wrangled_df_high_CIBIL = load_clean_data2(standard_data, 'high_CIBIL')\n",
    "\n",
    "# wrangled_df_NTC.to_csv(f'./Input_data/02 Wrangled_Data/wrangled_NTC_{datafile_name}',index=False)\n",
    "# wrangled_df_low_CIBIL.to_csv(f'./Input_data/02 Wrangled_Data/wrangled_low_CIBIL_{datafile_name}',index=False)\n",
    "# wrangled_df_mid_CIBIL.to_csv(f'./Input_data/02 Wrangled_Data/wrangled_mid_CIBIL_{datafile_name}',index=False)\n",
    "# wrangled_df_high_CIBIL.to_csv(f'./Input_data/02 Wrangled_Data/wrangled_high_CIBIL_{datafile_name}',index=False)"
   ]
  },
  {
   "cell_type": "code",
   "execution_count": 12,
   "id": "dd947f61-7c37-43b6-a560-5377ecded736",
   "metadata": {},
   "outputs": [
    {
     "name": "stdout",
     "output_type": "stream",
     "text": [
      "(5907, 25)\n",
      "(7487, 25)\n",
      "(2091, 25)\n",
      "(3138, 25)\n"
     ]
    }
   ],
   "source": [
    "print(wrangled_df_NTC.shape)\n",
    "print(wrangled_df_low_CIBIL.shape)\n",
    "print(wrangled_df_mid_CIBIL.shape)\n",
    "print(wrangled_df_high_CIBIL.shape)"
   ]
  },
  {
   "cell_type": "code",
   "execution_count": 13,
   "id": "2db47394-1eb3-4316-9041-a329b3350e5c",
   "metadata": {},
   "outputs": [
    {
     "data": {
      "text/plain": [
       "18623"
      ]
     },
     "execution_count": 13,
     "metadata": {},
     "output_type": "execute_result"
    }
   ],
   "source": [
    "wrangled_df_NTC.shape[0] +wrangled_df_low_CIBIL.shape[0] + wrangled_df_mid_CIBIL.shape[0]+wrangled_df_high_CIBIL.shape[0]"
   ]
  },
  {
   "cell_type": "markdown",
   "id": "e92236e9-0372-48fd-94b9-e785e3f0ec66",
   "metadata": {},
   "source": [
    "# Scoring"
   ]
  },
  {
   "cell_type": "markdown",
   "id": "7d0b28cf-0d8c-4311-983e-738cf8c0aa12",
   "metadata": {},
   "source": [
    "## NTC"
   ]
  },
  {
   "cell_type": "code",
   "execution_count": 14,
   "id": "ca2c7053-7da6-40d6-ab1f-63c48d90a399",
   "metadata": {},
   "outputs": [],
   "source": [
    "#lgbm\n",
    "#load model for ntc\n",
    "with open('./Refreshed_models/lgb_modelr_ntc.pkl', 'rb') as model_file:\n",
    "    NTC_model = pickle.load(model_file)\n",
    "\n",
    "#load ohe for ntc\n",
    "with open('./Refreshed_models/ohe_ntc.pkl', 'rb') as ohe_file:\n",
    "    NTC_ohe = pickle.load(ohe_file)"
   ]
  },
  {
   "cell_type": "code",
   "execution_count": 15,
   "id": "b4795fed-0cdd-4c35-ab38-ac1b9845f105",
   "metadata": {},
   "outputs": [],
   "source": [
    "def risk_class_NTC(x):\n",
    "    if x <= 0.339905769192112:\n",
    "        return 'Low Risk'\n",
    "    elif 0.339905769192112 < x <= 0.489970455472209:\n",
    "        return 'Middle Risk'\n",
    "    elif 0.489970455472209 < x <= 0.599997439305038:\n",
    "        return 'High Risk'\n",
    "    else:\n",
    "        return 'Very High Risk'"
   ]
  },
  {
   "cell_type": "code",
   "execution_count": 16,
   "id": "52b4c496-eca4-412e-afed-d0f2d6469e0b",
   "metadata": {},
   "outputs": [
    {
     "name": "stderr",
     "output_type": "stream",
     "text": [
      "C:\\Users\\emanlangit\\Documents\\2025\\00 ACSIN\\Model Refresh\\XGB_only\\xgb_env\\Lib\\site-packages\\sklearn\\preprocessing\\_encoders.py:242: UserWarning: Found unknown categories in columns [0, 5, 6, 11] during transform. These unknown categories will be encoded as all zeros\n",
      "  warnings.warn(\n"
     ]
    }
   ],
   "source": [
    "#for lgbm\n",
    "X_NTC = wrangled_df_NTC.drop(columns = [\"loan_account_no\"])\n",
    "\n",
    "if not X_NTC.empty:\n",
    "    object_columns = X_NTC.select_dtypes(include=['object','category']).columns\n",
    "    one_hot_encoded_object_X = NTC_ohe.transform(X_NTC[object_columns])\n",
    "    final_X = pd.concat([one_hot_encoded_object_X, X_NTC.select_dtypes('number')], axis=1)\n",
    "    \n",
    "    y_pred_proba = NTC_model.predict_proba(final_X)[:,1]\n",
    "    \n",
    "    wrangled_df_NTC['probability'] = y_pred_proba\n",
    "    wrangled_df_NTC['Risk Class'] = wrangled_df_NTC['probability'].apply(risk_class_NTC)\n",
    "    scored_wrangled_df_NTC = wrangled_df_NTC.copy()\n",
    "else:\n",
    "    scored_wrangled_df_NTC = X_NTC.copy()"
   ]
  },
  {
   "cell_type": "markdown",
   "id": "d683dd71-370e-44f6-af0a-77b96e5a92f9",
   "metadata": {},
   "source": [
    "## low_CIBIL"
   ]
  },
  {
   "cell_type": "code",
   "execution_count": 17,
   "id": "196cb3a6-4ac7-43a9-a55e-3fbb4ca3906e",
   "metadata": {},
   "outputs": [],
   "source": [
    "#load model for low_CIBIL\n",
    "with open('./Refreshed_models/lgb_modelr_low_CIBIL.pkl', 'rb') as model_file:\n",
    "    low_CIBIL_model = pickle.load(model_file)\n",
    "\n",
    "#load ohe for low_CIBIL\n",
    "with open('./Refreshed_models/ohe_low_CIBIL.pkl', 'rb') as ohe_file:\n",
    "    low_CIBIL_ohe = pickle.load(ohe_file)"
   ]
  },
  {
   "cell_type": "code",
   "execution_count": 18,
   "id": "ba677760-6dc6-4a64-a9d2-49746cc870d5",
   "metadata": {},
   "outputs": [],
   "source": [
    "def risk_class_low_CIBIL(x):\n",
    "    if x <= 0.329906626610688:\n",
    "        return 'Low Risk'\n",
    "    elif 0.329906626610688 < x <= 0.479921138916135:\n",
    "        return 'Middle Risk'\n",
    "    elif 0.479921138916135 < x <= 0.609980671913991:\n",
    "        return 'High Risk'\n",
    "    else:\n",
    "        return 'Very High Risk'"
   ]
  },
  {
   "cell_type": "code",
   "execution_count": 19,
   "id": "641662c5-85cb-453e-9d08-a9d9aa763c5e",
   "metadata": {},
   "outputs": [
    {
     "name": "stderr",
     "output_type": "stream",
     "text": [
      "C:\\Users\\emanlangit\\Documents\\2025\\00 ACSIN\\Model Refresh\\XGB_only\\xgb_env\\Lib\\site-packages\\sklearn\\preprocessing\\_encoders.py:242: UserWarning: Found unknown categories in columns [0, 5] during transform. These unknown categories will be encoded as all zeros\n",
      "  warnings.warn(\n"
     ]
    }
   ],
   "source": [
    "X_low_CIBIL = wrangled_df_low_CIBIL.drop(columns = [\"loan_account_no\"])\n",
    "\n",
    "if not X_low_CIBIL.empty:\n",
    "    object_columns = X_low_CIBIL.select_dtypes(include=['object','category']).columns\n",
    "    one_hot_encoded_object_X = low_CIBIL_ohe.transform(X_low_CIBIL[object_columns])\n",
    "    final_X = pd.concat([one_hot_encoded_object_X, X_low_CIBIL.select_dtypes('number')], axis=1)\n",
    "    \n",
    "    y_pred_proba = low_CIBIL_model.predict_proba(final_X)[:,1]\n",
    "    \n",
    "    wrangled_df_low_CIBIL['probability'] = y_pred_proba\n",
    "    wrangled_df_low_CIBIL['Risk Class'] = wrangled_df_low_CIBIL['probability'].apply(risk_class_low_CIBIL)\n",
    "    scored_wrangled_df_low_CIBIL = wrangled_df_low_CIBIL.copy()\n",
    "else:\n",
    "    scored_wrangled_df_low_CIBIL = X_low_CIBIL.copy()"
   ]
  },
  {
   "cell_type": "markdown",
   "id": "452d524e-9fc1-40c4-96e2-32700a42c470",
   "metadata": {},
   "source": [
    "## mid_CIBIL"
   ]
  },
  {
   "cell_type": "code",
   "execution_count": 20,
   "id": "480b0c0b-fad6-48cd-af23-e32e761be1b5",
   "metadata": {},
   "outputs": [],
   "source": [
    "#load model for mid_CIBIL\n",
    "with open('./Refreshed_models/rf_model_mid_CIBIL.pkl', 'rb') as model_file:\n",
    "    mid_CIBIL_model = pickle.load(model_file)"
   ]
  },
  {
   "cell_type": "code",
   "execution_count": 21,
   "id": "5d59f103-4544-438b-a680-0afb1cec19f0",
   "metadata": {},
   "outputs": [],
   "source": [
    "def risk_class_mid_CIBIL(x):\n",
    "    if x <= 0.0459969782663126:\n",
    "        return 'Low Risk'\n",
    "    elif 0.0459969782663126 < x <= 0.0609906453224068:\n",
    "        return 'Middle Risk'\n",
    "    elif 0.0609906453224068 < x <= 0.080988041746308:\n",
    "        return 'High Risk'\n",
    "    else:\n",
    "        return 'Very High Risk'"
   ]
  },
  {
   "cell_type": "code",
   "execution_count": 22,
   "id": "7267ecc2-180d-47ce-8c9a-fa7057edfe6f",
   "metadata": {},
   "outputs": [
    {
     "name": "stderr",
     "output_type": "stream",
     "text": [
      "C:\\Users\\emanlangit\\Documents\\2025\\00 ACSIN\\Model Refresh\\XGB_only\\xgb_env\\Lib\\site-packages\\sklearn\\preprocessing\\_encoders.py:242: UserWarning: Found unknown categories in columns [0, 5] during transform. These unknown categories will be encoded as all zeros\n",
      "  warnings.warn(\n"
     ]
    }
   ],
   "source": [
    "#this is for RF\n",
    "X_mid_CIBIL = wrangled_df_mid_CIBIL.drop(columns = [\"loan_account_no\"])\n",
    "\n",
    "if not X_mid_CIBIL.empty:\n",
    "    y_pred_proba = mid_CIBIL_model.predict_proba(X_mid_CIBIL)[:,1]\n",
    "\n",
    "    wrangled_df_mid_CIBIL['probability'] = y_pred_proba\n",
    "    wrangled_df_mid_CIBIL['Risk Class'] = wrangled_df_mid_CIBIL['probability'].apply(risk_class_mid_CIBIL)\n",
    "    scored_wrangled_df_mid_CIBIL = wrangled_df_mid_CIBIL.copy()\n",
    "else:\n",
    "    scored_wrangled_df_mid_CIBIL = X_mid_CIBIL.copy()"
   ]
  },
  {
   "cell_type": "markdown",
   "id": "b351ed7e-a407-4d82-865d-98584e47e1ab",
   "metadata": {},
   "source": [
    "## high_CIBIL"
   ]
  },
  {
   "cell_type": "code",
   "execution_count": 23,
   "id": "4804f4fa-dfaa-4bdd-b33d-f49716a319ed",
   "metadata": {},
   "outputs": [],
   "source": [
    "#load model for high_CIBIL\n",
    "with open('./Refreshed_models/xgbc_modelr_high_CIBIL.pkl', 'rb') as model_file:\n",
    "    high_CIBIL_model = pickle.load(model_file)\n",
    "\n",
    "#load ohe for high_CIBIL\n",
    "with open('./Refreshed_models/ohe_high_CIBIL.pkl', 'rb') as ohe_file:\n",
    "    high_CIBIL_ohe = pickle.load(ohe_file)"
   ]
  },
  {
   "cell_type": "code",
   "execution_count": 24,
   "id": "26637bf1-54c2-4b5f-ab4b-9bd75ed2d288",
   "metadata": {},
   "outputs": [],
   "source": [
    "def risk_class_high_CIBIL(x):\n",
    "    if x <= 0.0219995286315679:\n",
    "        return 'Low Risk'\n",
    "    elif 0.0219995286315679 < x <= 0.0359869040548801:\n",
    "        return 'Middle Risk'\n",
    "    elif 0.0359869040548801 < x <= 0.0759830772876739:\n",
    "        return 'High Risk'\n",
    "    else:\n",
    "        return 'Very High Risk'"
   ]
  },
  {
   "cell_type": "code",
   "execution_count": 25,
   "id": "d0ffbe47-a6b5-465f-bc36-fbec872500f1",
   "metadata": {},
   "outputs": [
    {
     "name": "stderr",
     "output_type": "stream",
     "text": [
      "C:\\Users\\emanlangit\\Documents\\2025\\00 ACSIN\\Model Refresh\\XGB_only\\xgb_env\\Lib\\site-packages\\sklearn\\preprocessing\\_encoders.py:242: UserWarning: Found unknown categories in columns [0, 5] during transform. These unknown categories will be encoded as all zeros\n",
      "  warnings.warn(\n"
     ]
    }
   ],
   "source": [
    "X_high_CIBIL = wrangled_df_high_CIBIL.drop(columns = [\"loan_account_no\"])\n",
    "\n",
    "if not X_high_CIBIL.empty:\n",
    "    object_columns = X_high_CIBIL.select_dtypes(include=['object','category']).columns\n",
    "    one_hot_encoded_object_X = high_CIBIL_ohe.transform(X_high_CIBIL[object_columns])\n",
    "    final_X = pd.concat([one_hot_encoded_object_X, X_high_CIBIL.select_dtypes('number')], axis=1)\n",
    "    \n",
    "    y_pred_proba = high_CIBIL_model.predict_proba(final_X)[:,1]\n",
    "    \n",
    "    wrangled_df_high_CIBIL['probability'] = y_pred_proba\n",
    "    wrangled_df_high_CIBIL['Risk Class'] = wrangled_df_high_CIBIL['probability'].apply(risk_class_high_CIBIL)\n",
    "    scored_wrangled_df_high_CIBIL = wrangled_df_high_CIBIL.copy()\n",
    "else:\n",
    "    scored_wrangled_df_high_CIBIL = X_high_CIBIL.copy()"
   ]
  },
  {
   "cell_type": "code",
   "execution_count": 26,
   "id": "cbc10db8-0662-4355-bf64-54630a947aee",
   "metadata": {},
   "outputs": [
    {
     "data": {
      "text/plain": [
       "Risk Class\n",
       "Low Risk          1561\n",
       "Middle Risk        629\n",
       "High Risk          623\n",
       "Very High Risk     325\n",
       "Name: count, dtype: int64"
      ]
     },
     "execution_count": 26,
     "metadata": {},
     "output_type": "execute_result"
    }
   ],
   "source": [
    "scored_wrangled_df_high_CIBIL['Risk Class'].value_counts()"
   ]
  },
  {
   "cell_type": "code",
   "execution_count": 27,
   "id": "0072179c-f3fc-488f-9ddb-ca597ad566db",
   "metadata": {},
   "outputs": [],
   "source": [
    "df_scored = pd.concat([scored_wrangled_df_NTC, scored_wrangled_df_low_CIBIL,\n",
    "                              scored_wrangled_df_mid_CIBIL,scored_wrangled_df_high_CIBIL])\n",
    "\n",
    "scores = df_scored[['loan_account_no', 'probability', 'Risk Class']]\n",
    "final_frame = raw_standard.merge(scores, how='inner', on='loan_account_no')\n",
    "scores_temp = final_frame[['loan_account_no','bureau_score' ,'probability',\n",
    "                           'Risk Class','loan_account_no_og','product_description',\n",
    "                          'decision']]\n",
    "#re-order columns\n",
    "column_names = raw_all_cols\n",
    "column_names.insert(0, 'loan_account_no')\n",
    "column_names.append('probability')\n",
    "column_names.append('Risk Class')\n",
    "\n",
    "final_frame = final_frame.reindex(columns=column_names)\n",
    "#final_frame.to_csv(f'./Output_data/scored_{datafile_name}', index=False)"
   ]
  },
  {
   "cell_type": "code",
   "execution_count": 28,
   "id": "0ed0b2a1-ee5e-4f5f-9861-1aeef0aa224f",
   "metadata": {},
   "outputs": [
    {
     "data": {
      "text/html": [
       "<div>\n",
       "<style scoped>\n",
       "    .dataframe tbody tr th:only-of-type {\n",
       "        vertical-align: middle;\n",
       "    }\n",
       "\n",
       "    .dataframe tbody tr th {\n",
       "        vertical-align: top;\n",
       "    }\n",
       "\n",
       "    .dataframe thead th {\n",
       "        text-align: right;\n",
       "    }\n",
       "</style>\n",
       "<table border=\"1\" class=\"dataframe\">\n",
       "  <thead>\n",
       "    <tr style=\"text-align: right;\">\n",
       "      <th></th>\n",
       "      <th>loan_account_no</th>\n",
       "      <th>application_number</th>\n",
       "      <th>cifnumber</th>\n",
       "      <th>customer_number</th>\n",
       "      <th>application received date</th>\n",
       "      <th>product_description</th>\n",
       "      <th>judgement date</th>\n",
       "      <th>decision</th>\n",
       "      <th>user_comment</th>\n",
       "      <th>loan_account_no_og</th>\n",
       "      <th>...</th>\n",
       "      <th>branch_name</th>\n",
       "      <th>occupation_type</th>\n",
       "      <th>industry</th>\n",
       "      <th>marital_status</th>\n",
       "      <th>nature_of_business</th>\n",
       "      <th>loan amount requested</th>\n",
       "      <th>bureau_score</th>\n",
       "      <th>d3_within12months</th>\n",
       "      <th>probability</th>\n",
       "      <th>Risk Class</th>\n",
       "    </tr>\n",
       "  </thead>\n",
       "  <tbody>\n",
       "    <tr>\n",
       "      <th>0</th>\n",
       "      <td>TEST1</td>\n",
       "      <td>APPL00269166</td>\n",
       "      <td>GLBCUST00000233038</td>\n",
       "      <td>CUST00240605</td>\n",
       "      <td>1/5/2024</td>\n",
       "      <td>2 Wheeler Loan</td>\n",
       "      <td>1/8/2024</td>\n",
       "      <td>Approve</td>\n",
       "      <td>NO TE CODE Model an La changed &amp; as per pan ca...</td>\n",
       "      <td>TW01010101000002287379</td>\n",
       "      <td>...</td>\n",
       "      <td>Eastern Mumbai</td>\n",
       "      <td>Self Employed Non Professional</td>\n",
       "      <td>Others</td>\n",
       "      <td>Married</td>\n",
       "      <td>Others</td>\n",
       "      <td>126000</td>\n",
       "      <td>748</td>\n",
       "      <td>1</td>\n",
       "      <td>0.071734</td>\n",
       "      <td>High Risk</td>\n",
       "    </tr>\n",
       "    <tr>\n",
       "      <th>1</th>\n",
       "      <td>TEST2</td>\n",
       "      <td>APPL00273869</td>\n",
       "      <td>GLBCUST00000237107</td>\n",
       "      <td>CUST00244824</td>\n",
       "      <td>1/17/2024</td>\n",
       "      <td>2 Wheeler Loan</td>\n",
       "      <td>1/17/2024</td>\n",
       "      <td>Approve</td>\n",
       "      <td>NO TEST CODE Change the loan amount dp amount ...</td>\n",
       "      <td>TW01010107000002289052</td>\n",
       "      <td>...</td>\n",
       "      <td>Western Mumbai</td>\n",
       "      <td>Self Employed Non Professional</td>\n",
       "      <td>Apparels</td>\n",
       "      <td>Married</td>\n",
       "      <td>Services</td>\n",
       "      <td>86500</td>\n",
       "      <td>784</td>\n",
       "      <td>0</td>\n",
       "      <td>0.005380</td>\n",
       "      <td>Low Risk</td>\n",
       "    </tr>\n",
       "    <tr>\n",
       "      <th>2</th>\n",
       "      <td>TEST3</td>\n",
       "      <td>APPL00288662</td>\n",
       "      <td>GLBCUST00000249888</td>\n",
       "      <td>CUST00258359</td>\n",
       "      <td>2/26/2024</td>\n",
       "      <td>2 Wheeler Loan</td>\n",
       "      <td>2/26/2024</td>\n",
       "      <td>Approve</td>\n",
       "      <td>TEST PROGRAM FOR CD TW</td>\n",
       "      <td>TW01020102000002296182</td>\n",
       "      <td>...</td>\n",
       "      <td>South Bangalore</td>\n",
       "      <td>Salaried</td>\n",
       "      <td>Others</td>\n",
       "      <td>Married</td>\n",
       "      <td>Services</td>\n",
       "      <td>109000</td>\n",
       "      <td>-1</td>\n",
       "      <td>0</td>\n",
       "      <td>0.726453</td>\n",
       "      <td>Very High Risk</td>\n",
       "    </tr>\n",
       "    <tr>\n",
       "      <th>3</th>\n",
       "      <td>TEST4</td>\n",
       "      <td>APPL00289273</td>\n",
       "      <td>GLBCUST00000250403</td>\n",
       "      <td>CUST00258951</td>\n",
       "      <td>2/28/2024</td>\n",
       "      <td>2 Wheeler Loan</td>\n",
       "      <td>3/19/2024</td>\n",
       "      <td>Approve</td>\n",
       "      <td>TEST PROGRAM FOR CD TW | SCHEME CHANGE DOEN</td>\n",
       "      <td>TW01020101000002299657</td>\n",
       "      <td>...</td>\n",
       "      <td>East Bangalore</td>\n",
       "      <td>Salaried</td>\n",
       "      <td>Others</td>\n",
       "      <td>Single</td>\n",
       "      <td>Services</td>\n",
       "      <td>97000</td>\n",
       "      <td>-1</td>\n",
       "      <td>0</td>\n",
       "      <td>0.709817</td>\n",
       "      <td>Very High Risk</td>\n",
       "    </tr>\n",
       "    <tr>\n",
       "      <th>4</th>\n",
       "      <td>TEST5</td>\n",
       "      <td>APPL00275395</td>\n",
       "      <td>GLBCUST00000238449</td>\n",
       "      <td>CUST00246209</td>\n",
       "      <td>1/21/2024</td>\n",
       "      <td>2 Wheeler Loan</td>\n",
       "      <td>1/25/2024</td>\n",
       "      <td>Approve</td>\n",
       "      <td>no test code - Name Change</td>\n",
       "      <td>TW01010106000002290584</td>\n",
       "      <td>...</td>\n",
       "      <td>Virar</td>\n",
       "      <td>Self Employed Non Professional</td>\n",
       "      <td>Others</td>\n",
       "      <td>Married</td>\n",
       "      <td>Others</td>\n",
       "      <td>96000</td>\n",
       "      <td>746</td>\n",
       "      <td>0</td>\n",
       "      <td>0.037042</td>\n",
       "      <td>Low Risk</td>\n",
       "    </tr>\n",
       "  </tbody>\n",
       "</table>\n",
       "<p>5 rows × 42 columns</p>\n",
       "</div>"
      ],
      "text/plain": [
       "  loan_account_no application_number           cifnumber customer_number  \\\n",
       "0           TEST1       APPL00269166  GLBCUST00000233038    CUST00240605   \n",
       "1           TEST2       APPL00273869  GLBCUST00000237107    CUST00244824   \n",
       "2           TEST3       APPL00288662  GLBCUST00000249888    CUST00258359   \n",
       "3           TEST4       APPL00289273  GLBCUST00000250403    CUST00258951   \n",
       "4           TEST5       APPL00275395  GLBCUST00000238449    CUST00246209   \n",
       "\n",
       "  application received date product_description judgement date decision  \\\n",
       "0                  1/5/2024      2 Wheeler Loan       1/8/2024  Approve   \n",
       "1                 1/17/2024      2 Wheeler Loan      1/17/2024  Approve   \n",
       "2                 2/26/2024      2 Wheeler Loan      2/26/2024  Approve   \n",
       "3                 2/28/2024      2 Wheeler Loan      3/19/2024  Approve   \n",
       "4                 1/21/2024      2 Wheeler Loan      1/25/2024  Approve   \n",
       "\n",
       "                                        user_comment      loan_account_no_og  \\\n",
       "0  NO TE CODE Model an La changed & as per pan ca...  TW01010101000002287379   \n",
       "1  NO TEST CODE Change the loan amount dp amount ...  TW01010107000002289052   \n",
       "2                             TEST PROGRAM FOR CD TW  TW01020102000002296182   \n",
       "3        TEST PROGRAM FOR CD TW | SCHEME CHANGE DOEN  TW01020101000002299657   \n",
       "4                         no test code - Name Change  TW01010106000002290584   \n",
       "\n",
       "   ...      branch_name                 occupation_type  industry  \\\n",
       "0  ...   Eastern Mumbai  Self Employed Non Professional    Others   \n",
       "1  ...   Western Mumbai  Self Employed Non Professional  Apparels   \n",
       "2  ...  South Bangalore                        Salaried    Others   \n",
       "3  ...   East Bangalore                        Salaried    Others   \n",
       "4  ...            Virar  Self Employed Non Professional    Others   \n",
       "\n",
       "   marital_status  nature_of_business loan amount requested  bureau_score  \\\n",
       "0         Married              Others                126000           748   \n",
       "1         Married            Services                 86500           784   \n",
       "2         Married            Services                109000            -1   \n",
       "3          Single            Services                 97000            -1   \n",
       "4         Married              Others                 96000           746   \n",
       "\n",
       "   d3_within12months  probability      Risk Class  \n",
       "0                  1     0.071734       High Risk  \n",
       "1                  0     0.005380        Low Risk  \n",
       "2                  0     0.726453  Very High Risk  \n",
       "3                  0     0.709817  Very High Risk  \n",
       "4                  0     0.037042        Low Risk  \n",
       "\n",
       "[5 rows x 42 columns]"
      ]
     },
     "execution_count": 28,
     "metadata": {},
     "output_type": "execute_result"
    }
   ],
   "source": [
    "final_frame.head()"
   ]
  },
  {
   "cell_type": "code",
   "execution_count": 29,
   "id": "a33a2e8c-45dc-4b9e-ac14-67367c974b1f",
   "metadata": {},
   "outputs": [
    {
     "data": {
      "text/plain": [
       "Index(['loan_account_no', 'application_number', 'cifnumber', 'customer_number',\n",
       "       'application received date', 'product_description', 'judgement date',\n",
       "       'decision', 'user_comment', 'loan_account_no_og',\n",
       "       'loan_sanctioned_date', 'loan_amount', 'disbursal_date',\n",
       "       'loan_asset_cost', 'number_of_installments', 'channel',\n",
       "       'original_emi_amount', 'interest_rate', 'res_years_at_current_city',\n",
       "       'years_in_occupation', 'res_years_at_current_address',\n",
       "       'res_resident_status', 'res_city', 'res_state', 'age', 'date_of_birth',\n",
       "       'gender', 'manufacturer', 'down_payment_amount', 'asset_model',\n",
       "       'dealer', 'total_income', 'branch_name', 'occupation_type', 'industry',\n",
       "       'marital_status', 'nature_of_business', 'loan amount requested',\n",
       "       'bureau_score', 'd3_within12months', 'probability', 'Risk Class'],\n",
       "      dtype='object')"
      ]
     },
     "execution_count": 29,
     "metadata": {},
     "output_type": "execute_result"
    }
   ],
   "source": [
    "final_frame.columns"
   ]
  },
  {
   "cell_type": "code",
   "execution_count": 30,
   "id": "e04a31e4-cc75-4932-b44c-6f448bec1c34",
   "metadata": {},
   "outputs": [
    {
     "name": "stdout",
     "output_type": "stream",
     "text": [
      "<class 'pandas.core.frame.DataFrame'>\n",
      "RangeIndex: 18623 entries, 0 to 18622\n",
      "Data columns (total 7 columns):\n",
      " #   Column               Non-Null Count  Dtype  \n",
      "---  ------               --------------  -----  \n",
      " 0   loan_account_no      18623 non-null  object \n",
      " 1   bureau_score         18623 non-null  int64  \n",
      " 2   probability          18623 non-null  float64\n",
      " 3   Risk Class           18623 non-null  object \n",
      " 4   loan_account_no_og   11441 non-null  object \n",
      " 5   product_description  18623 non-null  object \n",
      " 6   decision             18623 non-null  object \n",
      "dtypes: float64(1), int64(1), object(5)\n",
      "memory usage: 1018.6+ KB\n"
     ]
    }
   ],
   "source": [
    "scores_temp.info()"
   ]
  },
  {
   "cell_type": "code",
   "execution_count": 31,
   "id": "bc966ca5-8454-4fe0-bd9f-8ca21a102175",
   "metadata": {},
   "outputs": [],
   "source": [
    "def cibil_group(x):\n",
    "    if x < 300:\n",
    "        return 'NTC'\n",
    "    elif 300 <= x <= 730:\n",
    "        return 'low_CIBIL'\n",
    "    elif 731 <= x <= 749:\n",
    "        return 'mid_CIBIL'\n",
    "    else:\n",
    "        return 'high_CIBIL'\n",
    "\n",
    "scores_temp['CIBIL_group'] = scores_temp['bureau_score'].apply(cibil_group)"
   ]
  },
  {
   "cell_type": "code",
   "execution_count": 32,
   "id": "17280c1e-5f1b-492a-a5af-f5deab1275c8",
   "metadata": {},
   "outputs": [],
   "source": [
    "#scores_temp[['CIBIL_group', 'bureau_score']].value_counts()"
   ]
  },
  {
   "cell_type": "code",
   "execution_count": 33,
   "id": "121564d5-e36f-445b-bd71-5202d6ceb4bd",
   "metadata": {},
   "outputs": [],
   "source": [
    "#scores_temp.loan_account_no_og.value_counts()"
   ]
  },
  {
   "cell_type": "code",
   "execution_count": 34,
   "id": "243351f8-93df-49c9-abcd-42d4d7f7012d",
   "metadata": {},
   "outputs": [],
   "source": [
    "target_filename =  'SCM_Data_21-02-25_Rev_1.28_input.csv'\n",
    "target_filepath = f'./Raw_Data/{target_filename}'\n",
    "\n",
    "new_col12m = pd.read_csv(target_filepath)\n",
    "new_col12m = new_col12m.rename(columns={'LOAN_ACCOUNT_NO_og':'loan_account_no_og'})\n",
    "\n",
    "# merged_test_result = pd.merge(scores_temp, new_col12m, on='loan_account_no')\n",
    "# final_thresholding_base = merged_test_result.copy()"
   ]
  },
  {
   "cell_type": "code",
   "execution_count": 35,
   "id": "64b0ebd1-65b7-48f8-a183-32c1a9d2c1e2",
   "metadata": {},
   "outputs": [
    {
     "data": {
      "text/plain": [
       "872"
      ]
     },
     "execution_count": 35,
     "metadata": {},
     "output_type": "execute_result"
    }
   ],
   "source": [
    "new_col12m.D3_within12months.sum()"
   ]
  },
  {
   "cell_type": "code",
   "execution_count": 36,
   "id": "4e4d0af8-f715-41f1-85c3-a22df266f1b4",
   "metadata": {},
   "outputs": [],
   "source": [
    "new_col12m = new_col12m[['loan_account_no_og', 'D3_within12months']]\n",
    "new_col12m = new_col12m.dropna(subset =['loan_account_no_og'])"
   ]
  },
  {
   "cell_type": "code",
   "execution_count": 37,
   "id": "43ebe30b-1cd6-4210-9fd5-a7bbf6294f0d",
   "metadata": {},
   "outputs": [
    {
     "data": {
      "text/plain": [
       "(11441, 2)"
      ]
     },
     "execution_count": 37,
     "metadata": {},
     "output_type": "execute_result"
    }
   ],
   "source": [
    "new_col12m.shape"
   ]
  },
  {
   "cell_type": "code",
   "execution_count": 38,
   "id": "61bb03f5-aba8-4197-a6a0-4dd8ef53b3f6",
   "metadata": {},
   "outputs": [
    {
     "data": {
      "text/plain": [
       "872"
      ]
     },
     "execution_count": 38,
     "metadata": {},
     "output_type": "execute_result"
    }
   ],
   "source": [
    "new_col12m.D3_within12months.sum()"
   ]
  },
  {
   "cell_type": "code",
   "execution_count": 39,
   "id": "e474e782-4cf7-4bc9-9f7d-cf2d04e00827",
   "metadata": {},
   "outputs": [],
   "source": [
    "#final_thresholding_base.to_csv(f'temp_{datafile_name}_test_result_TW.csv', index=False)"
   ]
  },
  {
   "cell_type": "code",
   "execution_count": 40,
   "id": "2028cb10-4779-4a88-a867-e5102bee19e0",
   "metadata": {},
   "outputs": [],
   "source": [
    "#new_col12m.to_csv(f'janfeb_tags.csv', index=False)"
   ]
  },
  {
   "cell_type": "code",
   "execution_count": 41,
   "id": "f4dbc538-8281-4cca-a325-ebdfee92d7b0",
   "metadata": {},
   "outputs": [],
   "source": [
    "#scores.to_csv(f'./Output_data/{datafile_name}_risk_tags.csv', index=False)"
   ]
  },
  {
   "cell_type": "code",
   "execution_count": 42,
   "id": "f145fb8c-a051-4452-ab99-beb9cd2da193",
   "metadata": {},
   "outputs": [],
   "source": [
    "#final_frame.to_csv(f'./Output_data/comp_results_{datafile_name}', index=False)"
   ]
  },
  {
   "cell_type": "code",
   "execution_count": 43,
   "id": "c07824f8-5174-4348-ad3b-582a0612bf13",
   "metadata": {},
   "outputs": [],
   "source": [
    "#final_frame['Risk Class'].value_counts()"
   ]
  },
  {
   "cell_type": "code",
   "execution_count": 44,
   "id": "c1619a0d-66fe-4962-b6d7-73e5a644dfcb",
   "metadata": {},
   "outputs": [],
   "source": [
    "# Low_risk_agreement_share = 3401/8885\n",
    "# Middle_risk_agreement_share = 2170/8885\n",
    "# High_risk_agreement_share = 1541/8885\n",
    "# Very_High_risk_agreement_share = 1773/8885\n",
    "\n",
    "# print(f'{Low_risk_agreement_share}')\n",
    "# print(f'{Middle_risk_agreement_share}')\n",
    "# print(f'{High_risk_agreement_share}')\n",
    "# print(f'{Very_High_risk_agreement_share}')"
   ]
  },
  {
   "cell_type": "code",
   "execution_count": 45,
   "id": "f1b10b1f-5ad4-4cd0-8a21-329c54daed19",
   "metadata": {},
   "outputs": [
    {
     "data": {
      "text/html": [
       "<div>\n",
       "<style scoped>\n",
       "    .dataframe tbody tr th:only-of-type {\n",
       "        vertical-align: middle;\n",
       "    }\n",
       "\n",
       "    .dataframe tbody tr th {\n",
       "        vertical-align: top;\n",
       "    }\n",
       "\n",
       "    .dataframe thead th {\n",
       "        text-align: right;\n",
       "    }\n",
       "</style>\n",
       "<table border=\"1\" class=\"dataframe\">\n",
       "  <thead>\n",
       "    <tr style=\"text-align: right;\">\n",
       "      <th></th>\n",
       "      <th>loan_account_no</th>\n",
       "      <th>bureau_score</th>\n",
       "      <th>probability</th>\n",
       "      <th>Risk Class</th>\n",
       "      <th>loan_account_no_og</th>\n",
       "      <th>product_description</th>\n",
       "      <th>decision</th>\n",
       "      <th>CIBIL_group</th>\n",
       "    </tr>\n",
       "  </thead>\n",
       "  <tbody>\n",
       "    <tr>\n",
       "      <th>0</th>\n",
       "      <td>TEST1</td>\n",
       "      <td>748</td>\n",
       "      <td>0.071734</td>\n",
       "      <td>High Risk</td>\n",
       "      <td>TW01010101000002287379</td>\n",
       "      <td>2 Wheeler Loan</td>\n",
       "      <td>Approve</td>\n",
       "      <td>mid_CIBIL</td>\n",
       "    </tr>\n",
       "    <tr>\n",
       "      <th>1</th>\n",
       "      <td>TEST2</td>\n",
       "      <td>784</td>\n",
       "      <td>0.005380</td>\n",
       "      <td>Low Risk</td>\n",
       "      <td>TW01010107000002289052</td>\n",
       "      <td>2 Wheeler Loan</td>\n",
       "      <td>Approve</td>\n",
       "      <td>high_CIBIL</td>\n",
       "    </tr>\n",
       "    <tr>\n",
       "      <th>2</th>\n",
       "      <td>TEST3</td>\n",
       "      <td>-1</td>\n",
       "      <td>0.726453</td>\n",
       "      <td>Very High Risk</td>\n",
       "      <td>TW01020102000002296182</td>\n",
       "      <td>2 Wheeler Loan</td>\n",
       "      <td>Approve</td>\n",
       "      <td>NTC</td>\n",
       "    </tr>\n",
       "    <tr>\n",
       "      <th>3</th>\n",
       "      <td>TEST4</td>\n",
       "      <td>-1</td>\n",
       "      <td>0.709817</td>\n",
       "      <td>Very High Risk</td>\n",
       "      <td>TW01020101000002299657</td>\n",
       "      <td>2 Wheeler Loan</td>\n",
       "      <td>Approve</td>\n",
       "      <td>NTC</td>\n",
       "    </tr>\n",
       "    <tr>\n",
       "      <th>4</th>\n",
       "      <td>TEST5</td>\n",
       "      <td>746</td>\n",
       "      <td>0.037042</td>\n",
       "      <td>Low Risk</td>\n",
       "      <td>TW01010106000002290584</td>\n",
       "      <td>2 Wheeler Loan</td>\n",
       "      <td>Approve</td>\n",
       "      <td>mid_CIBIL</td>\n",
       "    </tr>\n",
       "    <tr>\n",
       "      <th>...</th>\n",
       "      <td>...</td>\n",
       "      <td>...</td>\n",
       "      <td>...</td>\n",
       "      <td>...</td>\n",
       "      <td>...</td>\n",
       "      <td>...</td>\n",
       "      <td>...</td>\n",
       "      <td>...</td>\n",
       "    </tr>\n",
       "    <tr>\n",
       "      <th>17706</th>\n",
       "      <td>TEST17707</td>\n",
       "      <td>752</td>\n",
       "      <td>0.012133</td>\n",
       "      <td>Low Risk</td>\n",
       "      <td>TW01010103000002292968</td>\n",
       "      <td>2 Wheeler Loan</td>\n",
       "      <td>Approve</td>\n",
       "      <td>high_CIBIL</td>\n",
       "    </tr>\n",
       "    <tr>\n",
       "      <th>17707</th>\n",
       "      <td>TEST17708</td>\n",
       "      <td>772</td>\n",
       "      <td>0.006711</td>\n",
       "      <td>Low Risk</td>\n",
       "      <td>TW01010105000002295824</td>\n",
       "      <td>2 Wheeler Loan</td>\n",
       "      <td>Approve</td>\n",
       "      <td>high_CIBIL</td>\n",
       "    </tr>\n",
       "    <tr>\n",
       "      <th>17708</th>\n",
       "      <td>TEST17709</td>\n",
       "      <td>730</td>\n",
       "      <td>0.162516</td>\n",
       "      <td>Low Risk</td>\n",
       "      <td>UT01010103000002288073</td>\n",
       "      <td>Used Two Wheeler Loan</td>\n",
       "      <td>Approve</td>\n",
       "      <td>low_CIBIL</td>\n",
       "    </tr>\n",
       "    <tr>\n",
       "      <th>17709</th>\n",
       "      <td>TEST17710</td>\n",
       "      <td>735</td>\n",
       "      <td>0.068493</td>\n",
       "      <td>High Risk</td>\n",
       "      <td>UT01020104000002295480</td>\n",
       "      <td>Used Two Wheeler Loan</td>\n",
       "      <td>Approve</td>\n",
       "      <td>mid_CIBIL</td>\n",
       "    </tr>\n",
       "    <tr>\n",
       "      <th>17710</th>\n",
       "      <td>TEST17711</td>\n",
       "      <td>-1</td>\n",
       "      <td>0.595758</td>\n",
       "      <td>High Risk</td>\n",
       "      <td>TW01010105000002306301</td>\n",
       "      <td>2 Wheeler Loan</td>\n",
       "      <td>Approve</td>\n",
       "      <td>NTC</td>\n",
       "    </tr>\n",
       "  </tbody>\n",
       "</table>\n",
       "<p>11441 rows × 8 columns</p>\n",
       "</div>"
      ],
      "text/plain": [
       "      loan_account_no  bureau_score  probability      Risk Class  \\\n",
       "0               TEST1           748     0.071734       High Risk   \n",
       "1               TEST2           784     0.005380        Low Risk   \n",
       "2               TEST3            -1     0.726453  Very High Risk   \n",
       "3               TEST4            -1     0.709817  Very High Risk   \n",
       "4               TEST5           746     0.037042        Low Risk   \n",
       "...               ...           ...          ...             ...   \n",
       "17706       TEST17707           752     0.012133        Low Risk   \n",
       "17707       TEST17708           772     0.006711        Low Risk   \n",
       "17708       TEST17709           730     0.162516        Low Risk   \n",
       "17709       TEST17710           735     0.068493       High Risk   \n",
       "17710       TEST17711            -1     0.595758       High Risk   \n",
       "\n",
       "           loan_account_no_og    product_description decision CIBIL_group  \n",
       "0      TW01010101000002287379         2 Wheeler Loan  Approve   mid_CIBIL  \n",
       "1      TW01010107000002289052         2 Wheeler Loan  Approve  high_CIBIL  \n",
       "2      TW01020102000002296182         2 Wheeler Loan  Approve         NTC  \n",
       "3      TW01020101000002299657         2 Wheeler Loan  Approve         NTC  \n",
       "4      TW01010106000002290584         2 Wheeler Loan  Approve   mid_CIBIL  \n",
       "...                       ...                    ...      ...         ...  \n",
       "17706  TW01010103000002292968         2 Wheeler Loan  Approve  high_CIBIL  \n",
       "17707  TW01010105000002295824         2 Wheeler Loan  Approve  high_CIBIL  \n",
       "17708  UT01010103000002288073  Used Two Wheeler Loan  Approve   low_CIBIL  \n",
       "17709  UT01020104000002295480  Used Two Wheeler Loan  Approve   mid_CIBIL  \n",
       "17710  TW01010105000002306301         2 Wheeler Loan  Approve         NTC  \n",
       "\n",
       "[11441 rows x 8 columns]"
      ]
     },
     "execution_count": 45,
     "metadata": {},
     "output_type": "execute_result"
    }
   ],
   "source": [
    "scores_temp = scores_temp.dropna(subset = ['loan_account_no_og'])\n",
    "scores_temp"
   ]
  },
  {
   "cell_type": "code",
   "execution_count": 46,
   "id": "8e91b866-7833-418f-b614-60505218904d",
   "metadata": {},
   "outputs": [],
   "source": [
    "new_col12m = new_col12m.rename(columns={'loan_account_no_og':'loan_account_no_og'})\n",
    "temp_merged_test_result = pd.merge(scores_temp, new_col12m, on='loan_account_no_og')"
   ]
  },
  {
   "cell_type": "code",
   "execution_count": 47,
   "id": "6776e95f-eefd-4191-b6e8-cd5e82dd94b3",
   "metadata": {},
   "outputs": [
    {
     "data": {
      "text/html": [
       "<div>\n",
       "<style scoped>\n",
       "    .dataframe tbody tr th:only-of-type {\n",
       "        vertical-align: middle;\n",
       "    }\n",
       "\n",
       "    .dataframe tbody tr th {\n",
       "        vertical-align: top;\n",
       "    }\n",
       "\n",
       "    .dataframe thead th {\n",
       "        text-align: right;\n",
       "    }\n",
       "</style>\n",
       "<table border=\"1\" class=\"dataframe\">\n",
       "  <thead>\n",
       "    <tr style=\"text-align: right;\">\n",
       "      <th></th>\n",
       "      <th>loan_account_no</th>\n",
       "      <th>bureau_score</th>\n",
       "      <th>probability</th>\n",
       "      <th>Risk Class</th>\n",
       "      <th>loan_account_no_og</th>\n",
       "      <th>product_description</th>\n",
       "      <th>decision</th>\n",
       "      <th>CIBIL_group</th>\n",
       "      <th>D3_within12months</th>\n",
       "    </tr>\n",
       "  </thead>\n",
       "  <tbody>\n",
       "    <tr>\n",
       "      <th>0</th>\n",
       "      <td>TEST1</td>\n",
       "      <td>748</td>\n",
       "      <td>0.071734</td>\n",
       "      <td>High Risk</td>\n",
       "      <td>TW01010101000002287379</td>\n",
       "      <td>2 Wheeler Loan</td>\n",
       "      <td>Approve</td>\n",
       "      <td>mid_CIBIL</td>\n",
       "      <td>1</td>\n",
       "    </tr>\n",
       "    <tr>\n",
       "      <th>1</th>\n",
       "      <td>TEST2</td>\n",
       "      <td>784</td>\n",
       "      <td>0.005380</td>\n",
       "      <td>Low Risk</td>\n",
       "      <td>TW01010107000002289052</td>\n",
       "      <td>2 Wheeler Loan</td>\n",
       "      <td>Approve</td>\n",
       "      <td>high_CIBIL</td>\n",
       "      <td>0</td>\n",
       "    </tr>\n",
       "    <tr>\n",
       "      <th>2</th>\n",
       "      <td>TEST3</td>\n",
       "      <td>-1</td>\n",
       "      <td>0.726453</td>\n",
       "      <td>Very High Risk</td>\n",
       "      <td>TW01020102000002296182</td>\n",
       "      <td>2 Wheeler Loan</td>\n",
       "      <td>Approve</td>\n",
       "      <td>NTC</td>\n",
       "      <td>0</td>\n",
       "    </tr>\n",
       "    <tr>\n",
       "      <th>3</th>\n",
       "      <td>TEST3</td>\n",
       "      <td>-1</td>\n",
       "      <td>0.726453</td>\n",
       "      <td>Very High Risk</td>\n",
       "      <td>TW01020102000002296182</td>\n",
       "      <td>2 Wheeler Loan</td>\n",
       "      <td>Approve</td>\n",
       "      <td>NTC</td>\n",
       "      <td>0</td>\n",
       "    </tr>\n",
       "    <tr>\n",
       "      <th>4</th>\n",
       "      <td>TEST4</td>\n",
       "      <td>-1</td>\n",
       "      <td>0.709817</td>\n",
       "      <td>Very High Risk</td>\n",
       "      <td>TW01020101000002299657</td>\n",
       "      <td>2 Wheeler Loan</td>\n",
       "      <td>Approve</td>\n",
       "      <td>NTC</td>\n",
       "      <td>0</td>\n",
       "    </tr>\n",
       "    <tr>\n",
       "      <th>...</th>\n",
       "      <td>...</td>\n",
       "      <td>...</td>\n",
       "      <td>...</td>\n",
       "      <td>...</td>\n",
       "      <td>...</td>\n",
       "      <td>...</td>\n",
       "      <td>...</td>\n",
       "      <td>...</td>\n",
       "      <td>...</td>\n",
       "    </tr>\n",
       "    <tr>\n",
       "      <th>15274</th>\n",
       "      <td>TEST17708</td>\n",
       "      <td>772</td>\n",
       "      <td>0.006711</td>\n",
       "      <td>Low Risk</td>\n",
       "      <td>TW01010105000002295824</td>\n",
       "      <td>2 Wheeler Loan</td>\n",
       "      <td>Approve</td>\n",
       "      <td>high_CIBIL</td>\n",
       "      <td>0</td>\n",
       "    </tr>\n",
       "    <tr>\n",
       "      <th>15275</th>\n",
       "      <td>TEST17708</td>\n",
       "      <td>772</td>\n",
       "      <td>0.006711</td>\n",
       "      <td>Low Risk</td>\n",
       "      <td>TW01010105000002295824</td>\n",
       "      <td>2 Wheeler Loan</td>\n",
       "      <td>Approve</td>\n",
       "      <td>high_CIBIL</td>\n",
       "      <td>0</td>\n",
       "    </tr>\n",
       "    <tr>\n",
       "      <th>15276</th>\n",
       "      <td>TEST17709</td>\n",
       "      <td>730</td>\n",
       "      <td>0.162516</td>\n",
       "      <td>Low Risk</td>\n",
       "      <td>UT01010103000002288073</td>\n",
       "      <td>Used Two Wheeler Loan</td>\n",
       "      <td>Approve</td>\n",
       "      <td>low_CIBIL</td>\n",
       "      <td>0</td>\n",
       "    </tr>\n",
       "    <tr>\n",
       "      <th>15277</th>\n",
       "      <td>TEST17710</td>\n",
       "      <td>735</td>\n",
       "      <td>0.068493</td>\n",
       "      <td>High Risk</td>\n",
       "      <td>UT01020104000002295480</td>\n",
       "      <td>Used Two Wheeler Loan</td>\n",
       "      <td>Approve</td>\n",
       "      <td>mid_CIBIL</td>\n",
       "      <td>0</td>\n",
       "    </tr>\n",
       "    <tr>\n",
       "      <th>15278</th>\n",
       "      <td>TEST17711</td>\n",
       "      <td>-1</td>\n",
       "      <td>0.595758</td>\n",
       "      <td>High Risk</td>\n",
       "      <td>TW01010105000002306301</td>\n",
       "      <td>2 Wheeler Loan</td>\n",
       "      <td>Approve</td>\n",
       "      <td>NTC</td>\n",
       "      <td>0</td>\n",
       "    </tr>\n",
       "  </tbody>\n",
       "</table>\n",
       "<p>15279 rows × 9 columns</p>\n",
       "</div>"
      ],
      "text/plain": [
       "      loan_account_no  bureau_score  probability      Risk Class  \\\n",
       "0               TEST1           748     0.071734       High Risk   \n",
       "1               TEST2           784     0.005380        Low Risk   \n",
       "2               TEST3            -1     0.726453  Very High Risk   \n",
       "3               TEST3            -1     0.726453  Very High Risk   \n",
       "4               TEST4            -1     0.709817  Very High Risk   \n",
       "...               ...           ...          ...             ...   \n",
       "15274       TEST17708           772     0.006711        Low Risk   \n",
       "15275       TEST17708           772     0.006711        Low Risk   \n",
       "15276       TEST17709           730     0.162516        Low Risk   \n",
       "15277       TEST17710           735     0.068493       High Risk   \n",
       "15278       TEST17711            -1     0.595758       High Risk   \n",
       "\n",
       "           loan_account_no_og    product_description decision CIBIL_group  \\\n",
       "0      TW01010101000002287379         2 Wheeler Loan  Approve   mid_CIBIL   \n",
       "1      TW01010107000002289052         2 Wheeler Loan  Approve  high_CIBIL   \n",
       "2      TW01020102000002296182         2 Wheeler Loan  Approve         NTC   \n",
       "3      TW01020102000002296182         2 Wheeler Loan  Approve         NTC   \n",
       "4      TW01020101000002299657         2 Wheeler Loan  Approve         NTC   \n",
       "...                       ...                    ...      ...         ...   \n",
       "15274  TW01010105000002295824         2 Wheeler Loan  Approve  high_CIBIL   \n",
       "15275  TW01010105000002295824         2 Wheeler Loan  Approve  high_CIBIL   \n",
       "15276  UT01010103000002288073  Used Two Wheeler Loan  Approve   low_CIBIL   \n",
       "15277  UT01020104000002295480  Used Two Wheeler Loan  Approve   mid_CIBIL   \n",
       "15278  TW01010105000002306301         2 Wheeler Loan  Approve         NTC   \n",
       "\n",
       "       D3_within12months  \n",
       "0                      1  \n",
       "1                      0  \n",
       "2                      0  \n",
       "3                      0  \n",
       "4                      0  \n",
       "...                  ...  \n",
       "15274                  0  \n",
       "15275                  0  \n",
       "15276                  0  \n",
       "15277                  0  \n",
       "15278                  0  \n",
       "\n",
       "[15279 rows x 9 columns]"
      ]
     },
     "execution_count": 47,
     "metadata": {},
     "output_type": "execute_result"
    }
   ],
   "source": [
    "temp_merged_test_result#[['CIBIL_group', 'bureau_score']].value_counts()"
   ]
  },
  {
   "cell_type": "code",
   "execution_count": 48,
   "id": "f70f724a-83a0-4df0-afb1-a4a6e17f9704",
   "metadata": {},
   "outputs": [],
   "source": [
    "tagged_duplicated_df = temp_merged_test_result[['loan_account_no','D3_within12months']]"
   ]
  },
  {
   "cell_type": "code",
   "execution_count": 49,
   "id": "ab0dbcae-8a6f-495f-b73a-75c50b8d967f",
   "metadata": {},
   "outputs": [
    {
     "data": {
      "text/plain": [
       "(15279, 2)"
      ]
     },
     "execution_count": 49,
     "metadata": {},
     "output_type": "execute_result"
    }
   ],
   "source": [
    "tagged_duplicated_df.shape"
   ]
  },
  {
   "cell_type": "code",
   "execution_count": 50,
   "id": "19fe4a1b-2d75-40ad-8f84-2baa17b5edd7",
   "metadata": {},
   "outputs": [],
   "source": [
    "temp2_merged_test_result = pd.merge(scores_temp, tagged_duplicated_df, on='loan_account_no', how='outer')"
   ]
  },
  {
   "cell_type": "code",
   "execution_count": 51,
   "id": "927b6744-1418-40da-90ab-e69da28664ab",
   "metadata": {},
   "outputs": [],
   "source": [
    "#last cell\n",
    "#temp2_merged_test_result.to_csv(f'tagged_scored_test_JanFeb_all2.csv', index=False)"
   ]
  },
  {
   "cell_type": "code",
   "execution_count": 70,
   "id": "ba3906ee-27fe-4d88-9178-a14edeae75c4",
   "metadata": {},
   "outputs": [],
   "source": [
    "final_frame.to_csv(f'scored_all_JanFeb.csv', index=False)"
   ]
  },
  {
   "cell_type": "code",
   "execution_count": 52,
   "id": "ed874545-7bab-4505-bb07-7a03c8f38ba9",
   "metadata": {},
   "outputs": [
    {
     "data": {
      "text/html": [
       "<div>\n",
       "<style scoped>\n",
       "    .dataframe tbody tr th:only-of-type {\n",
       "        vertical-align: middle;\n",
       "    }\n",
       "\n",
       "    .dataframe tbody tr th {\n",
       "        vertical-align: top;\n",
       "    }\n",
       "\n",
       "    .dataframe thead th {\n",
       "        text-align: right;\n",
       "    }\n",
       "</style>\n",
       "<table border=\"1\" class=\"dataframe\">\n",
       "  <thead>\n",
       "    <tr style=\"text-align: right;\">\n",
       "      <th></th>\n",
       "      <th>loan_account_no</th>\n",
       "      <th>bureau_score</th>\n",
       "      <th>probability</th>\n",
       "      <th>Risk Class</th>\n",
       "      <th>loan_account_no_og</th>\n",
       "      <th>product_description</th>\n",
       "      <th>decision</th>\n",
       "      <th>CIBIL_group</th>\n",
       "      <th>D3_within12months</th>\n",
       "    </tr>\n",
       "  </thead>\n",
       "  <tbody>\n",
       "    <tr>\n",
       "      <th>0</th>\n",
       "      <td>TEST1</td>\n",
       "      <td>748</td>\n",
       "      <td>0.071734</td>\n",
       "      <td>High Risk</td>\n",
       "      <td>TW01010101000002287379</td>\n",
       "      <td>2 Wheeler Loan</td>\n",
       "      <td>Approve</td>\n",
       "      <td>mid_CIBIL</td>\n",
       "      <td>1</td>\n",
       "    </tr>\n",
       "    <tr>\n",
       "      <th>1</th>\n",
       "      <td>TEST10</td>\n",
       "      <td>-1</td>\n",
       "      <td>0.437865</td>\n",
       "      <td>Middle Risk</td>\n",
       "      <td>TW01030104000002288295</td>\n",
       "      <td>2 Wheeler Loan</td>\n",
       "      <td>Approve</td>\n",
       "      <td>NTC</td>\n",
       "      <td>0</td>\n",
       "    </tr>\n",
       "    <tr>\n",
       "      <th>2</th>\n",
       "      <td>TEST10</td>\n",
       "      <td>-1</td>\n",
       "      <td>0.437865</td>\n",
       "      <td>Middle Risk</td>\n",
       "      <td>TW01030104000002288295</td>\n",
       "      <td>2 Wheeler Loan</td>\n",
       "      <td>Approve</td>\n",
       "      <td>NTC</td>\n",
       "      <td>0</td>\n",
       "    </tr>\n",
       "    <tr>\n",
       "      <th>3</th>\n",
       "      <td>TEST100</td>\n",
       "      <td>-1</td>\n",
       "      <td>0.402232</td>\n",
       "      <td>Middle Risk</td>\n",
       "      <td>TW01030101000002290977</td>\n",
       "      <td>2 Wheeler Loan</td>\n",
       "      <td>Approve</td>\n",
       "      <td>NTC</td>\n",
       "      <td>0</td>\n",
       "    </tr>\n",
       "    <tr>\n",
       "      <th>4</th>\n",
       "      <td>TEST1000</td>\n",
       "      <td>786</td>\n",
       "      <td>0.019479</td>\n",
       "      <td>Low Risk</td>\n",
       "      <td>TW01020102000002286520</td>\n",
       "      <td>2 Wheeler Loan</td>\n",
       "      <td>Approve</td>\n",
       "      <td>high_CIBIL</td>\n",
       "      <td>0</td>\n",
       "    </tr>\n",
       "    <tr>\n",
       "      <th>...</th>\n",
       "      <td>...</td>\n",
       "      <td>...</td>\n",
       "      <td>...</td>\n",
       "      <td>...</td>\n",
       "      <td>...</td>\n",
       "      <td>...</td>\n",
       "      <td>...</td>\n",
       "      <td>...</td>\n",
       "      <td>...</td>\n",
       "    </tr>\n",
       "    <tr>\n",
       "      <th>15274</th>\n",
       "      <td>TEST9996</td>\n",
       "      <td>-1</td>\n",
       "      <td>0.127859</td>\n",
       "      <td>Low Risk</td>\n",
       "      <td>TW01010102000002288978</td>\n",
       "      <td>2 Wheeler Loan</td>\n",
       "      <td>Approve</td>\n",
       "      <td>NTC</td>\n",
       "      <td>0</td>\n",
       "    </tr>\n",
       "    <tr>\n",
       "      <th>15275</th>\n",
       "      <td>TEST9997</td>\n",
       "      <td>0</td>\n",
       "      <td>0.667893</td>\n",
       "      <td>Very High Risk</td>\n",
       "      <td>TW01010105000002289047</td>\n",
       "      <td>2 Wheeler Loan</td>\n",
       "      <td>Approve</td>\n",
       "      <td>NTC</td>\n",
       "      <td>0</td>\n",
       "    </tr>\n",
       "    <tr>\n",
       "      <th>15276</th>\n",
       "      <td>TEST9998</td>\n",
       "      <td>-1</td>\n",
       "      <td>0.513598</td>\n",
       "      <td>High Risk</td>\n",
       "      <td>TW01030105000002287265</td>\n",
       "      <td>2 Wheeler Loan</td>\n",
       "      <td>Approve</td>\n",
       "      <td>NTC</td>\n",
       "      <td>1</td>\n",
       "    </tr>\n",
       "    <tr>\n",
       "      <th>15277</th>\n",
       "      <td>TEST9999</td>\n",
       "      <td>732</td>\n",
       "      <td>0.064932</td>\n",
       "      <td>High Risk</td>\n",
       "      <td>TW01020102000002287266</td>\n",
       "      <td>2 Wheeler Loan</td>\n",
       "      <td>Approve</td>\n",
       "      <td>mid_CIBIL</td>\n",
       "      <td>0</td>\n",
       "    </tr>\n",
       "    <tr>\n",
       "      <th>15278</th>\n",
       "      <td>TEST9999</td>\n",
       "      <td>732</td>\n",
       "      <td>0.064932</td>\n",
       "      <td>High Risk</td>\n",
       "      <td>TW01020102000002287266</td>\n",
       "      <td>2 Wheeler Loan</td>\n",
       "      <td>Approve</td>\n",
       "      <td>mid_CIBIL</td>\n",
       "      <td>0</td>\n",
       "    </tr>\n",
       "  </tbody>\n",
       "</table>\n",
       "<p>15279 rows × 9 columns</p>\n",
       "</div>"
      ],
      "text/plain": [
       "      loan_account_no  bureau_score  probability      Risk Class  \\\n",
       "0               TEST1           748     0.071734       High Risk   \n",
       "1              TEST10            -1     0.437865     Middle Risk   \n",
       "2              TEST10            -1     0.437865     Middle Risk   \n",
       "3             TEST100            -1     0.402232     Middle Risk   \n",
       "4            TEST1000           786     0.019479        Low Risk   \n",
       "...               ...           ...          ...             ...   \n",
       "15274        TEST9996            -1     0.127859        Low Risk   \n",
       "15275        TEST9997             0     0.667893  Very High Risk   \n",
       "15276        TEST9998            -1     0.513598       High Risk   \n",
       "15277        TEST9999           732     0.064932       High Risk   \n",
       "15278        TEST9999           732     0.064932       High Risk   \n",
       "\n",
       "           loan_account_no_og product_description decision CIBIL_group  \\\n",
       "0      TW01010101000002287379      2 Wheeler Loan  Approve   mid_CIBIL   \n",
       "1      TW01030104000002288295      2 Wheeler Loan  Approve         NTC   \n",
       "2      TW01030104000002288295      2 Wheeler Loan  Approve         NTC   \n",
       "3      TW01030101000002290977      2 Wheeler Loan  Approve         NTC   \n",
       "4      TW01020102000002286520      2 Wheeler Loan  Approve  high_CIBIL   \n",
       "...                       ...                 ...      ...         ...   \n",
       "15274  TW01010102000002288978      2 Wheeler Loan  Approve         NTC   \n",
       "15275  TW01010105000002289047      2 Wheeler Loan  Approve         NTC   \n",
       "15276  TW01030105000002287265      2 Wheeler Loan  Approve         NTC   \n",
       "15277  TW01020102000002287266      2 Wheeler Loan  Approve   mid_CIBIL   \n",
       "15278  TW01020102000002287266      2 Wheeler Loan  Approve   mid_CIBIL   \n",
       "\n",
       "       D3_within12months  \n",
       "0                      1  \n",
       "1                      0  \n",
       "2                      0  \n",
       "3                      0  \n",
       "4                      0  \n",
       "...                  ...  \n",
       "15274                  0  \n",
       "15275                  0  \n",
       "15276                  1  \n",
       "15277                  0  \n",
       "15278                  0  \n",
       "\n",
       "[15279 rows x 9 columns]"
      ]
     },
     "execution_count": 52,
     "metadata": {},
     "output_type": "execute_result"
    }
   ],
   "source": [
    "temp2_merged_test_result#[['CIBIL_group', 'bureau_score']].value_counts()"
   ]
  },
  {
   "cell_type": "code",
   "execution_count": 53,
   "id": "56370a61-a2bc-4222-a0ff-d170a3aacb63",
   "metadata": {},
   "outputs": [],
   "source": [
    "tagged_LANs_result = temp2_merged_test_result.dropna(subset=['D3_within12months'])"
   ]
  },
  {
   "cell_type": "code",
   "execution_count": 54,
   "id": "e9f754b6-69b6-46a5-94b5-dead3adca4ad",
   "metadata": {},
   "outputs": [
    {
     "data": {
      "text/plain": [
       "(15279, 9)"
      ]
     },
     "execution_count": 54,
     "metadata": {},
     "output_type": "execute_result"
    }
   ],
   "source": [
    "tagged_LANs_result.shape"
   ]
  },
  {
   "cell_type": "code",
   "execution_count": 55,
   "id": "b5370bee-b218-40a6-9f7e-b96007ffe566",
   "metadata": {},
   "outputs": [],
   "source": [
    "duplicated_A = tagged_LANs_result.duplicated(subset='loan_account_no_og', keep =False)\n",
    "\n",
    "# Drop the rows that meet both conditions\n",
    "tagged_LANs_result_no_dup = tagged_LANs_result.drop(tagged_LANs_result[duplicated_A].index)"
   ]
  },
  {
   "cell_type": "code",
   "execution_count": 56,
   "id": "f02c9524-98af-4793-86ee-0253c7d88f29",
   "metadata": {},
   "outputs": [],
   "source": [
    "tagged_LANs_result_no_dup_TW = tagged_LANs_result_no_dup[tagged_LANs_result_no_dup.product_description == '2 Wheeler Loan']"
   ]
  },
  {
   "cell_type": "code",
   "execution_count": 57,
   "id": "e1c69371-ea85-4057-a1d1-19b79eadd9e4",
   "metadata": {},
   "outputs": [
    {
     "data": {
      "text/plain": [
       "(6928, 9)"
      ]
     },
     "execution_count": 57,
     "metadata": {},
     "output_type": "execute_result"
    }
   ],
   "source": [
    "tagged_LANs_result_no_dup_TW.shape"
   ]
  },
  {
   "cell_type": "code",
   "execution_count": 58,
   "id": "e41cdcf2-cdbb-4594-915f-a644d3bac8aa",
   "metadata": {},
   "outputs": [
    {
     "data": {
      "text/plain": [
       "decision\n",
       "Approve    6928\n",
       "Name: count, dtype: int64"
      ]
     },
     "execution_count": 58,
     "metadata": {},
     "output_type": "execute_result"
    }
   ],
   "source": [
    "tagged_LANs_result_no_dup_TW.decision.value_counts()"
   ]
  },
  {
   "cell_type": "code",
   "execution_count": 59,
   "id": "995cb4aa-6eb5-4825-b479-460c25dca7d1",
   "metadata": {},
   "outputs": [
    {
     "data": {
      "text/html": [
       "<div>\n",
       "<style scoped>\n",
       "    .dataframe tbody tr th:only-of-type {\n",
       "        vertical-align: middle;\n",
       "    }\n",
       "\n",
       "    .dataframe tbody tr th {\n",
       "        vertical-align: top;\n",
       "    }\n",
       "\n",
       "    .dataframe thead th {\n",
       "        text-align: right;\n",
       "    }\n",
       "</style>\n",
       "<table border=\"1\" class=\"dataframe\">\n",
       "  <thead>\n",
       "    <tr style=\"text-align: right;\">\n",
       "      <th></th>\n",
       "      <th>loan_account_no</th>\n",
       "      <th>bureau_score</th>\n",
       "      <th>probability</th>\n",
       "      <th>Risk Class</th>\n",
       "      <th>loan_account_no_og</th>\n",
       "      <th>product_description</th>\n",
       "      <th>decision</th>\n",
       "      <th>CIBIL_group</th>\n",
       "      <th>D3_within12months</th>\n",
       "    </tr>\n",
       "  </thead>\n",
       "  <tbody>\n",
       "    <tr>\n",
       "      <th>0</th>\n",
       "      <td>TEST1</td>\n",
       "      <td>748</td>\n",
       "      <td>0.071734</td>\n",
       "      <td>High Risk</td>\n",
       "      <td>TW01010101000002287379</td>\n",
       "      <td>2 Wheeler Loan</td>\n",
       "      <td>Approve</td>\n",
       "      <td>mid_CIBIL</td>\n",
       "      <td>1</td>\n",
       "    </tr>\n",
       "    <tr>\n",
       "      <th>3</th>\n",
       "      <td>TEST100</td>\n",
       "      <td>-1</td>\n",
       "      <td>0.402232</td>\n",
       "      <td>Middle Risk</td>\n",
       "      <td>TW01030101000002290977</td>\n",
       "      <td>2 Wheeler Loan</td>\n",
       "      <td>Approve</td>\n",
       "      <td>NTC</td>\n",
       "      <td>0</td>\n",
       "    </tr>\n",
       "    <tr>\n",
       "      <th>6</th>\n",
       "      <td>TEST10000</td>\n",
       "      <td>-1</td>\n",
       "      <td>0.045054</td>\n",
       "      <td>Low Risk</td>\n",
       "      <td>TW01010105000002287729</td>\n",
       "      <td>2 Wheeler Loan</td>\n",
       "      <td>Approve</td>\n",
       "      <td>NTC</td>\n",
       "      <td>0</td>\n",
       "    </tr>\n",
       "    <tr>\n",
       "      <th>11</th>\n",
       "      <td>TEST10003</td>\n",
       "      <td>735</td>\n",
       "      <td>0.064257</td>\n",
       "      <td>High Risk</td>\n",
       "      <td>TW01010102000002287946</td>\n",
       "      <td>2 Wheeler Loan</td>\n",
       "      <td>Approve</td>\n",
       "      <td>mid_CIBIL</td>\n",
       "      <td>0</td>\n",
       "    </tr>\n",
       "    <tr>\n",
       "      <th>12</th>\n",
       "      <td>TEST10004</td>\n",
       "      <td>723</td>\n",
       "      <td>0.127814</td>\n",
       "      <td>Low Risk</td>\n",
       "      <td>TW01010101000002287345</td>\n",
       "      <td>2 Wheeler Loan</td>\n",
       "      <td>Approve</td>\n",
       "      <td>low_CIBIL</td>\n",
       "      <td>0</td>\n",
       "    </tr>\n",
       "    <tr>\n",
       "      <th>...</th>\n",
       "      <td>...</td>\n",
       "      <td>...</td>\n",
       "      <td>...</td>\n",
       "      <td>...</td>\n",
       "      <td>...</td>\n",
       "      <td>...</td>\n",
       "      <td>...</td>\n",
       "      <td>...</td>\n",
       "      <td>...</td>\n",
       "    </tr>\n",
       "    <tr>\n",
       "      <th>15272</th>\n",
       "      <td>TEST9994</td>\n",
       "      <td>0</td>\n",
       "      <td>0.593282</td>\n",
       "      <td>High Risk</td>\n",
       "      <td>TW01030107000002288757</td>\n",
       "      <td>2 Wheeler Loan</td>\n",
       "      <td>Approve</td>\n",
       "      <td>NTC</td>\n",
       "      <td>0</td>\n",
       "    </tr>\n",
       "    <tr>\n",
       "      <th>15273</th>\n",
       "      <td>TEST9995</td>\n",
       "      <td>725</td>\n",
       "      <td>0.561841</td>\n",
       "      <td>High Risk</td>\n",
       "      <td>TW01020102000002288844</td>\n",
       "      <td>2 Wheeler Loan</td>\n",
       "      <td>Approve</td>\n",
       "      <td>low_CIBIL</td>\n",
       "      <td>0</td>\n",
       "    </tr>\n",
       "    <tr>\n",
       "      <th>15274</th>\n",
       "      <td>TEST9996</td>\n",
       "      <td>-1</td>\n",
       "      <td>0.127859</td>\n",
       "      <td>Low Risk</td>\n",
       "      <td>TW01010102000002288978</td>\n",
       "      <td>2 Wheeler Loan</td>\n",
       "      <td>Approve</td>\n",
       "      <td>NTC</td>\n",
       "      <td>0</td>\n",
       "    </tr>\n",
       "    <tr>\n",
       "      <th>15275</th>\n",
       "      <td>TEST9997</td>\n",
       "      <td>0</td>\n",
       "      <td>0.667893</td>\n",
       "      <td>Very High Risk</td>\n",
       "      <td>TW01010105000002289047</td>\n",
       "      <td>2 Wheeler Loan</td>\n",
       "      <td>Approve</td>\n",
       "      <td>NTC</td>\n",
       "      <td>0</td>\n",
       "    </tr>\n",
       "    <tr>\n",
       "      <th>15276</th>\n",
       "      <td>TEST9998</td>\n",
       "      <td>-1</td>\n",
       "      <td>0.513598</td>\n",
       "      <td>High Risk</td>\n",
       "      <td>TW01030105000002287265</td>\n",
       "      <td>2 Wheeler Loan</td>\n",
       "      <td>Approve</td>\n",
       "      <td>NTC</td>\n",
       "      <td>1</td>\n",
       "    </tr>\n",
       "  </tbody>\n",
       "</table>\n",
       "<p>6928 rows × 9 columns</p>\n",
       "</div>"
      ],
      "text/plain": [
       "      loan_account_no  bureau_score  probability      Risk Class  \\\n",
       "0               TEST1           748     0.071734       High Risk   \n",
       "3             TEST100            -1     0.402232     Middle Risk   \n",
       "6           TEST10000            -1     0.045054        Low Risk   \n",
       "11          TEST10003           735     0.064257       High Risk   \n",
       "12          TEST10004           723     0.127814        Low Risk   \n",
       "...               ...           ...          ...             ...   \n",
       "15272        TEST9994             0     0.593282       High Risk   \n",
       "15273        TEST9995           725     0.561841       High Risk   \n",
       "15274        TEST9996            -1     0.127859        Low Risk   \n",
       "15275        TEST9997             0     0.667893  Very High Risk   \n",
       "15276        TEST9998            -1     0.513598       High Risk   \n",
       "\n",
       "           loan_account_no_og product_description decision CIBIL_group  \\\n",
       "0      TW01010101000002287379      2 Wheeler Loan  Approve   mid_CIBIL   \n",
       "3      TW01030101000002290977      2 Wheeler Loan  Approve         NTC   \n",
       "6      TW01010105000002287729      2 Wheeler Loan  Approve         NTC   \n",
       "11     TW01010102000002287946      2 Wheeler Loan  Approve   mid_CIBIL   \n",
       "12     TW01010101000002287345      2 Wheeler Loan  Approve   low_CIBIL   \n",
       "...                       ...                 ...      ...         ...   \n",
       "15272  TW01030107000002288757      2 Wheeler Loan  Approve         NTC   \n",
       "15273  TW01020102000002288844      2 Wheeler Loan  Approve   low_CIBIL   \n",
       "15274  TW01010102000002288978      2 Wheeler Loan  Approve         NTC   \n",
       "15275  TW01010105000002289047      2 Wheeler Loan  Approve         NTC   \n",
       "15276  TW01030105000002287265      2 Wheeler Loan  Approve         NTC   \n",
       "\n",
       "       D3_within12months  \n",
       "0                      1  \n",
       "3                      0  \n",
       "6                      0  \n",
       "11                     0  \n",
       "12                     0  \n",
       "...                  ...  \n",
       "15272                  0  \n",
       "15273                  0  \n",
       "15274                  0  \n",
       "15275                  0  \n",
       "15276                  1  \n",
       "\n",
       "[6928 rows x 9 columns]"
      ]
     },
     "execution_count": 59,
     "metadata": {},
     "output_type": "execute_result"
    }
   ],
   "source": [
    "tagged_LANs_result_no_dup_TW"
   ]
  },
  {
   "cell_type": "code",
   "execution_count": 60,
   "id": "d36806ea-5dc2-4110-9c23-ec135d86a70e",
   "metadata": {},
   "outputs": [
    {
     "name": "stdout",
     "output_type": "stream",
     "text": [
      "<class 'pandas.core.frame.DataFrame'>\n",
      "Index: 6928 entries, 0 to 15276\n",
      "Data columns (total 9 columns):\n",
      " #   Column               Non-Null Count  Dtype  \n",
      "---  ------               --------------  -----  \n",
      " 0   loan_account_no      6928 non-null   object \n",
      " 1   bureau_score         6928 non-null   int64  \n",
      " 2   probability          6928 non-null   float64\n",
      " 3   Risk Class           6928 non-null   object \n",
      " 4   loan_account_no_og   6928 non-null   object \n",
      " 5   product_description  6928 non-null   object \n",
      " 6   decision             6928 non-null   object \n",
      " 7   CIBIL_group          6928 non-null   object \n",
      " 8   D3_within12months    6928 non-null   int64  \n",
      "dtypes: float64(1), int64(2), object(6)\n",
      "memory usage: 541.2+ KB\n"
     ]
    }
   ],
   "source": [
    "tagged_LANs_result_no_dup_TW.info()"
   ]
  },
  {
   "cell_type": "code",
   "execution_count": 61,
   "id": "5b1e557c-c362-4749-b894-9c66574e7617",
   "metadata": {},
   "outputs": [],
   "source": [
    "tagged_LANs_result_no_dup_TW.to_csv(f'filtered_tagged_scored_test_JanFeb_all_v1.28.2.csv', index=False)"
   ]
  },
  {
   "cell_type": "code",
   "execution_count": 62,
   "id": "b847e9f0-987e-44b9-af1f-ce5817b9ec9d",
   "metadata": {},
   "outputs": [
    {
     "data": {
      "text/plain": [
       "517"
      ]
     },
     "execution_count": 62,
     "metadata": {},
     "output_type": "execute_result"
    }
   ],
   "source": [
    "tagged_LANs_result_no_dup_TW.D3_within12months.sum() "
   ]
  },
  {
   "cell_type": "code",
   "execution_count": 63,
   "id": "23bbab8a-44a0-44d6-baca-abbfab62826a",
   "metadata": {},
   "outputs": [
    {
     "data": {
      "text/plain": [
       "array(['mid_CIBIL', 'NTC', 'low_CIBIL', 'high_CIBIL'], dtype=object)"
      ]
     },
     "execution_count": 63,
     "metadata": {},
     "output_type": "execute_result"
    }
   ],
   "source": [
    "tagged_LANs_result_no_dup_TW.CIBIL_group.unique()"
   ]
  },
  {
   "cell_type": "code",
   "execution_count": 64,
   "id": "b8a72e44-5bc0-458f-93d9-4b799a81f24c",
   "metadata": {},
   "outputs": [],
   "source": [
    "segment = 'high_CIBIL'\n",
    "df_cibil = tagged_LANs_result_no_dup_TW[tagged_LANs_result_no_dup_TW.CIBIL_group == segment]"
   ]
  },
  {
   "cell_type": "code",
   "execution_count": 65,
   "id": "9efa09c8-7a1e-4df3-b697-23910b1cd73c",
   "metadata": {},
   "outputs": [],
   "source": [
    "y_test = df_cibil['D3_within12months']\n",
    "y_pred_proba = df_cibil['probability']"
   ]
  },
  {
   "cell_type": "code",
   "execution_count": 66,
   "id": "dc12045b-0f7e-4146-a2eb-486d8468a486",
   "metadata": {},
   "outputs": [
    {
     "name": "stdout",
     "output_type": "stream",
     "text": [
      "high_CIBIL\n"
     ]
    }
   ],
   "source": [
    "print(segment)"
   ]
  },
  {
   "cell_type": "code",
   "execution_count": 67,
   "id": "45c7505a-fb32-4298-aba1-f9482705dcc4",
   "metadata": {},
   "outputs": [],
   "source": [
    "from sklearn.metrics import ConfusionMatrixDisplay, RocCurveDisplay, roc_curve, auc\n",
    "import matplotlib.pyplot as plt\n",
    "from sklearn.metrics import confusion_matrix, accuracy_score, classification_report, roc_auc_score\n",
    "from sklearn import metrics\n",
    "import seaborn as sns"
   ]
  },
  {
   "cell_type": "code",
   "execution_count": 68,
   "id": "f9e43be5-dfba-43df-bec0-c905c9ca44e4",
   "metadata": {},
   "outputs": [
    {
     "name": "stderr",
     "output_type": "stream",
     "text": [
      "C:\\Users\\emanlangit.AEONCREDIT\\AppData\\Local\\Temp\\ipykernel_2756\\2920523527.py:8: FutureWarning: Series.__getitem__ treating keys as positions is deprecated. In a future version, integer keys will always be treated as labels (consistent with DataFrame behavior). To access a value by position, use `ser.iloc[pos]`\n",
      "  THRESHOLD = tp_fp_diff.iloc[max_index][0]\n"
     ]
    },
    {
     "data": {
      "image/png": "[encoded data removed]",
      "text/plain": [
       "<Figure size 500x500 with 1 Axes>"
      ]
     },
     "metadata": {},
     "output_type": "display_data"
    },
    {
     "name": "stdout",
     "output_type": "stream",
     "text": [
      "               precision    recall  f1-score   support\n",
      "\n",
      "Good Customer       0.99      0.52      0.68      1498\n",
      " Bad Customer       0.05      0.82      0.10        50\n",
      "\n",
      "     accuracy                           0.53      1548\n",
      "    macro avg       0.52      0.67      0.39      1548\n",
      " weighted avg       0.96      0.53      0.66      1548\n",
      "\n",
      "[[782 716]\n",
      " [  9  41]]\n",
      "782 716 9 41\n"
     ]
    },
    {
     "name": "stderr",
     "output_type": "stream",
     "text": [
      "C:\\Users\\emanlangit.AEONCREDIT\\AppData\\Local\\Temp\\ipykernel_2756\\2920523527.py:28: UserWarning: \n",
      "\n",
      "`distplot` is a deprecated function and will be removed in seaborn v0.14.0.\n",
      "\n",
      "Please adapt your code to use either `displot` (a figure-level function with\n",
      "similar flexibility) or `histplot` (an axes-level function for histograms).\n",
      "\n",
      "For a guide to updating your code to use the new functions, please see\n",
      "https://gist.github.com/mwaskom/de44147ed2974457ad6372750bbe5751\n",
      "\n",
      "  sns.distplot(y_pred_proba)\n"
     ]
    },
    {
     "data": {
      "image/png": "[encoded data removed]",
      "text/plain": [
       "<Figure size 640x480 with 1 Axes>"
      ]
     },
     "metadata": {},
     "output_type": "display_data"
    }
   ],
   "source": [
    "false_positive_rate, true_positive_rate, threshold = roc_curve(y_test, y_pred_proba)\n",
    "\n",
    "#compute optimal threshold based on roc_auc curve only\n",
    "opt = true_positive_rate - false_positive_rate\n",
    "tp_fp_diff = pd.DataFrame({'thresholds': threshold, 'tpr_fpr': opt})\n",
    "\n",
    "max_index = tp_fp_diff.tpr_fpr.argmax()\n",
    "THRESHOLD = tp_fp_diff.iloc[max_index][0]\n",
    "\n",
    "y_pred = np.where(y_pred_proba > THRESHOLD, 1, 0)\n",
    "\n",
    "plt.subplots(1, figsize = (5,5))\n",
    "luh = roc_auc_score(y_test, y_pred_proba)\n",
    "plt.title(f'ROC_AUC Curve: {luh:.2f}')\n",
    "plt.plot(false_positive_rate, true_positive_rate)\n",
    "plt.plot([0,1], ls = \"--\")\n",
    "plt.plot([0,0],[1,0], c= \".7\"), plt.plot([1,1], c=\".7\")\n",
    "plt.ylabel('True Positive Rate')\n",
    "plt.xlabel('False Positive Rate')\n",
    "plt.show()\n",
    "\n",
    "print(classification_report(y_test, y_pred, target_names = ['Good Customer','Bad Customer']))\n",
    "cnf_matrix = metrics.confusion_matrix(y_test,y_pred)\n",
    "tn, fp, fn, tp = confusion_matrix(y_test, y_pred).ravel()\n",
    "print(cnf_matrix)\n",
    "print(tn, fp, fn, tp)\n",
    "\n",
    "sns.distplot(y_pred_proba)\n",
    "plt.show()"
   ]
  },
  {
   "cell_type": "markdown",
   "id": "719c7250-27bc-4062-8f04-e2d2ed9f39b8",
   "metadata": {},
   "source": [
    "NTC: 0.68\n",
    "low_CIBIL: 0.64\n",
    "mid_CIBIL: 0.68\n",
    "high_CIBIL: 0.68"
   ]
  },
  {
   "cell_type": "code",
   "execution_count": null,
   "id": "e8e79e5e-4fa0-4f7f-8cd6-2f1286262e49",
   "metadata": {},
   "outputs": [],
   "source": []
  }
 ],
 "metadata": {
  "kernelspec": {
   "display_name": "Python 3 (ipykernel)",
   "language": "python",
   "name": "python3"
  },
  "language_info": {
   "codemirror_mode": {
    "name": "ipython",
    "version": 3
   },
   "file_extension": ".py",
   "mimetype": "text/x-python",
   "name": "python",
   "nbconvert_exporter": "python",
   "pygments_lexer": "ipython3",
   "version": "3.12.2"
  }
 },
 "nbformat": 4,
 "nbformat_minor": 5
}
